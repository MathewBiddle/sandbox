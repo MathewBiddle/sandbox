{
 "cells": [
  {
   "cell_type": "code",
   "execution_count": 2,
   "id": "7705e666",
   "metadata": {},
   "outputs": [
    {
     "name": "stderr",
     "output_type": "stream",
     "text": [
      "C:\\Users\\MATHEW~1.BID\\AppData\\Local\\Temp\\7/ipykernel_17884/4030226762.py:6: UserWarning: Column names longer than 10 characters will be truncated when saved to ESRI Shapefile.\n",
      "  gdf.to_file('file.shp')\n"
     ]
    }
   ],
   "source": [
    "import geopandas as gpd\n",
    "\n",
    "url = 'https://erddap.ioos.us/erddap/tabledap/processed_asset_inventory.geoJson?crs%2CYear%2CRA%2Clatitude%2Clongitude%2Cstation_long_name%2CPlatform%2COperational%2CRA_Funded%2CWater_temp%2CSalinity%2CWtr_press%2CDew_pt%2CRel_hum%2CAir_temp%2CWinds%2CAir_press%2CPrecip%2CSolar_radn%2CVisibility%2CWater_level%2CWaves%2CCurrents%2CTurbidity%2CDO%2CpCO2_water%2CpCO2_air%2CTCO2%2CpH%2COmgArag_st%2CChl%2CNitrate%2CCDOM%2CAlkalinity%2CAcoustics%2CRaw_Vars'\n",
    "\n",
    "gdf = gpd.read_file(url)\n",
    "gdf.to_file('file.shp')"
   ]
  },
  {
   "cell_type": "code",
   "execution_count": null,
   "id": "5edbcb3e",
   "metadata": {},
   "outputs": [],
   "source": []
  }
 ],
 "metadata": {
  "kernelspec": {
   "display_name": "Python 3 (ipykernel)",
   "language": "python",
   "name": "python3"
  },
  "language_info": {
   "codemirror_mode": {
    "name": "ipython",
    "version": 3
   },
   "file_extension": ".py",
   "mimetype": "text/x-python",
   "name": "python",
   "nbconvert_exporter": "python",
   "pygments_lexer": "ipython3",
   "version": "3.8.10"
  }
 },
 "nbformat": 4,
 "nbformat_minor": 5
}
