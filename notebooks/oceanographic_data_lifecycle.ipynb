{
  "nbformat": 4,
  "nbformat_minor": 0,
  "metadata": {
    "colab": {
      "name": "oceanographic_data_lifecycle.ipynb",
      "provenance": [],
      "collapsed_sections": [],
      "include_colab_link": true
    },
    "kernelspec": {
      "name": "python3",
      "display_name": "Python 3"
    },
    "language_info": {
      "name": "python"
    }
  },
  "cells": [
    {
      "cell_type": "markdown",
      "metadata": {
        "id": "view-in-github",
        "colab_type": "text"
      },
      "source": [
        "<a href=\"https://colab.research.google.com/github/MathewBiddle/sandbox/blob/master/oceanographic_data_lifecycle.ipynb\" target=\"_parent\"><img src=\"https://colab.research.google.com/assets/colab-badge.svg\" alt=\"Open In Colab\"/></a>"
      ]
    },
    {
      "cell_type": "markdown",
      "metadata": {
        "id": "UgjlluoTpEEd"
      },
      "source": [
        "# Exploring the oceanographic data lifecycle using Jupyter Notebooks.\n",
        "\n",
        "Thinking about a project I'd like to follow the oceanographic data from a research cruise using available web services. The idea would be to Walk from a research cruise, to domain specific repository(ies), to national archive, to public dissemination, **all using web services**.\n",
        "\n",
        "How well are we really aligning to FAIR principles?\n",
        "\n",
        "\n",
        "Requirements:\n",
        "* research cruise (R2R connection) \n",
        "* Deploy glider (IOOS connection)\n",
        "* CTD carbon data (CCHDO connection)\n",
        "* Bottles/MOCNESS (BCO-DMO connection)\n",
        "* NOAA Fleet/UNOLS fleet\n",
        "* Archived (NCEI connection)\n",
        "* CTD profile data (World Ocean Database connection)\n",
        "* Some public dissemination (news article or something)\n",
        "   * Ocean heat content?\n",
        "   * Publication?"
      ]
    },
    {
      "cell_type": "markdown",
      "metadata": {
        "id": "IzTUD77kp0kA"
      },
      "source": [
        "## Step 1: Find a research cruise.\n",
        "\n",
        "Google search??\n",
        "\n",
        "Maybe start with [Healy 2010 research cruise](https://archives.whoi.edu/expeditions/vanishing_arctic/page.do@pid=44616.html).\n",
        "\n",
        "* In R2R - https://www.rvdata.us/search/cruise/HLY1003\n",
        "* In BCO-DMO - https://www.bco-dmo.org/deployment/523770\n",
        "* In SAMOS - http://samos.coaps.fsu.edu/html/cruise_data_availability.php?submit=search&sort=overall&data=1&cruises[]=HLY1003\n",
        "* In earthChem - \n",
        "* In CCHDO - \n",
        "* In NCEI (via independent search) - https://www.ncei.noaa.gov/access/metadata/landing-page/bin/iso?id=gov.noaa.nodc:0157295\n",
        "   * CLIVAR_HLY1003 data set. CDIAC associated the following cruise ID(s) with this data set: HLY1003\n",
        "   * DOI (from NCEI) - dx.doi.org/10.3334/cdiac/otg.clivar_33hq20100907\n",
        "   * [NCEI search](https://www.ncei.noaa.gov/metadata/geoportal/opensearch?q=(%22Carbon%20Dioxide%20Information%20Analysis%20Center%22%20OR%20%22Biological%20and%20Chemical%20Oceanography%20Data%20Management%20Office%22%20OR%20%22CLIVAR%20and%20Carbon%20Hydrographic%20Data%20Office%22%20OR%20%22Ocean%20Acidification%20Data%20Stewardship%20(OADS)%20Project%22%20OR%20%22Ocean%20Carbon%20and%20Acidification%20Data%20System%20(OCADS)%22%20OR%20%22Ocean%20Carbon%20Data%20System%20(OCADS)%20Project%22%20OR%20%22US%20DOC;%20NOAA;%20Office%20of%20Oceanic%20and%20Atmospheric%20Research;%20Ocean%20Acidification%20Program%20(OAP)%22)%20AND%20%22healy%22&time=2010-09-01/2010-11-01&start=1&num=25&f=csv)"
      ]
    },
    {
      "cell_type": "code",
      "metadata": {
        "id": "GUWFUG8eo_uE"
      },
      "source": [
        ""
      ],
      "execution_count": null,
      "outputs": []
    },
    {
      "cell_type": "markdown",
      "metadata": {
        "id": "SJa3u1h3qXMr"
      },
      "source": [
        "## Step 2: Determine what observations were made."
      ]
    },
    {
      "cell_type": "code",
      "metadata": {
        "id": "I7vZ65aYqe_V"
      },
      "source": [
        ""
      ],
      "execution_count": null,
      "outputs": []
    },
    {
      "cell_type": "markdown",
      "metadata": {
        "id": "Ktg2KFIgqfxn"
      },
      "source": [
        "## Step 3: Search domain repositories for specific observations."
      ]
    },
    {
      "cell_type": "code",
      "metadata": {
        "id": "TMuT_pqCqpm4"
      },
      "source": [
        ""
      ],
      "execution_count": null,
      "outputs": []
    },
    {
      "cell_type": "markdown",
      "metadata": {
        "id": "BD83o5ITqqPf"
      },
      "source": [
        "## Step 4: Search NCEI for data."
      ]
    },
    {
      "cell_type": "code",
      "metadata": {
        "id": "b3lKeCBrqwlf",
        "colab": {
          "base_uri": "https://localhost:8080/",
          "height": 97
        },
        "outputId": "8336a82c-a2b9-4647-c847-419a165d77bf"
      },
      "source": [
        "import pandas as pd\n",
        "\n",
        "url = 'https://www.ncei.noaa.gov/metadata/geoportal/opensearch?q=(%22Carbon%20Dioxide%20Information%20Analysis%20Center%22%20OR%20%22Biological%20and%20Chemical%20Oceanography%20Data%20Management%20Office%22%20OR%20%22CLIVAR%20and%20Carbon%20Hydrographic%20Data%20Office%22%20OR%20%22Ocean%20Acidification%20Data%20Stewardship%20(OADS)%20Project%22%20OR%20%22Ocean%20Carbon%20and%20Acidification%20Data%20System%20(OCADS)%22%20OR%20%22Ocean%20Carbon%20Data%20System%20(OCADS)%20Project%22%20OR%20%22US%20DOC;%20NOAA;%20Office%20of%20Oceanic%20and%20Atmospheric%20Research;%20Ocean%20Acidification%20Program%20(OAP)%22)%20AND%20%22healy%22&time=2010-09-01/2010-11-01&start=1&num=25&f=csv'\n",
        "\n",
        "df = pd.read_csv(url)\n",
        "df"
      ],
      "execution_count": null,
      "outputs": [
        {
          "output_type": "execute_result",
          "data": {
            "text/html": [
              "<div>\n",
              "<style scoped>\n",
              "    .dataframe tbody tr th:only-of-type {\n",
              "        vertical-align: middle;\n",
              "    }\n",
              "\n",
              "    .dataframe tbody tr th {\n",
              "        vertical-align: top;\n",
              "    }\n",
              "\n",
              "    .dataframe thead th {\n",
              "        text-align: right;\n",
              "    }\n",
              "</style>\n",
              "<table border=\"1\" class=\"dataframe\">\n",
              "  <thead>\n",
              "    <tr style=\"text-align: right;\">\n",
              "      <th></th>\n",
              "      <th>Id</th>\n",
              "      <th>Title</th>\n",
              "      <th>Description</th>\n",
              "      <th>West</th>\n",
              "      <th>South</th>\n",
              "      <th>East</th>\n",
              "      <th>North</th>\n",
              "      <th>Link_Xml</th>\n",
              "      <th>Link_1</th>\n",
              "      <th>Link_2</th>\n",
              "      <th>Link_3</th>\n",
              "      <th>Link_4</th>\n",
              "      <th>Data_Date_Range</th>\n",
              "      <th>Date_Published</th>\n",
              "    </tr>\n",
              "  </thead>\n",
              "  <tbody>\n",
              "    <tr>\n",
              "      <th>0</th>\n",
              "      <td>gov.noaa.nodc:0157295</td>\n",
              "      <td>Dissolved inorganic carbon, alkalinity, temper...</td>\n",
              "      <td>NaN</td>\n",
              "      <td>-160.45</td>\n",
              "      <td>69.9731</td>\n",
              "      <td>-126.665</td>\n",
              "      <td>73.2041</td>\n",
              "      <td>http://www.ncei.noaa.gov/metadata/geoportal/re...</td>\n",
              "      <td>NaN</td>\n",
              "      <td>NaN</td>\n",
              "      <td>NaN</td>\n",
              "      <td>NaN</td>\n",
              "      <td>2010-09-07T00:00:00Z to 2010-09-27T23:59:59.999Z</td>\n",
              "      <td>2016-12-08T00:00:00Z</td>\n",
              "    </tr>\n",
              "  </tbody>\n",
              "</table>\n",
              "</div>"
            ],
            "text/plain": [
              "                      Id  ...        Date_Published\n",
              "0  gov.noaa.nodc:0157295  ...  2016-12-08T00:00:00Z\n",
              "\n",
              "[1 rows x 14 columns]"
            ]
          },
          "metadata": {
            "tags": []
          },
          "execution_count": 3
        }
      ]
    },
    {
      "cell_type": "markdown",
      "metadata": {
        "id": "Ad4a13kpqxLz"
      },
      "source": [
        "## Step 5: Now search for public dissemination of the information (article/publication)"
      ]
    },
    {
      "cell_type": "code",
      "metadata": {
        "id": "MrDAGLNPq6Ev"
      },
      "source": [
        ""
      ],
      "execution_count": null,
      "outputs": []
    }
  ]
}