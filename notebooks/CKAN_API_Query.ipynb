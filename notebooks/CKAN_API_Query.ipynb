{
  "nbformat": 4,
  "nbformat_minor": 0,
  "metadata": {
    "colab": {
      "provenance": [],
      "authorship_tag": "ABX9TyPqfwrgzHMeuYMNljOuhIix",
      "include_colab_link": true
    },
    "kernelspec": {
      "name": "python3",
      "display_name": "Python 3"
    },
    "language_info": {
      "name": "python"
    }
  },
  "cells": [
    {
      "cell_type": "markdown",
      "metadata": {
        "id": "view-in-github",
        "colab_type": "text"
      },
      "source": [
        "<a href=\"https://colab.research.google.com/github/MathewBiddle/sandbox/blob/main/notebooks/CKAN_API_Query.ipynb\" target=\"_parent\"><img src=\"https://colab.research.google.com/assets/colab-badge.svg\" alt=\"Open In Colab\"/></a>"
      ]
    },
    {
      "cell_type": "markdown",
      "source": [
        "Search [IOOS Data Catalog](https://data.ioos.us/) for CF standard names that contain `oxygen` and `sea_water`."
      ],
      "metadata": {
        "id": "Dl6UQcydrdtx"
      }
    },
    {
      "cell_type": "code",
      "source": [
        "try:\n",
        "   import ckanapi\n",
        "except:\n",
        "   !pip install ckanapi"
      ],
      "metadata": {
        "id": "AIX-_9o2P07V",
        "outputId": "932fa07e-dfa2-4781-84b9-87764bc988e3",
        "colab": {
          "base_uri": "https://localhost:8080/"
        }
      },
      "execution_count": 1,
      "outputs": [
        {
          "output_type": "stream",
          "name": "stdout",
          "text": [
            "Looking in indexes: https://pypi.org/simple, https://us-python.pkg.dev/colab-wheels/public/simple/\n",
            "Collecting ckanapi\n",
            "  Downloading ckanapi-4.7.tar.gz (33 kB)\n",
            "  Preparing metadata (setup.py) ... \u001b[?25l\u001b[?25hdone\n",
            "Requirement already satisfied: setuptools in /usr/local/lib/python3.8/dist-packages (from ckanapi) (57.4.0)\n",
            "Collecting docopt\n",
            "  Downloading docopt-0.6.2.tar.gz (25 kB)\n",
            "  Preparing metadata (setup.py) ... \u001b[?25l\u001b[?25hdone\n",
            "Requirement already satisfied: requests in /usr/local/lib/python3.8/dist-packages (from ckanapi) (2.25.1)\n",
            "Requirement already satisfied: python-slugify>=1.0 in /usr/local/lib/python3.8/dist-packages (from ckanapi) (7.0.0)\n",
            "Requirement already satisfied: six<2.0,>=1.9 in /usr/local/lib/python3.8/dist-packages (from ckanapi) (1.15.0)\n",
            "Requirement already satisfied: text-unidecode>=1.3 in /usr/local/lib/python3.8/dist-packages (from python-slugify>=1.0->ckanapi) (1.3)\n",
            "Requirement already satisfied: idna<3,>=2.5 in /usr/local/lib/python3.8/dist-packages (from requests->ckanapi) (2.10)\n",
            "Requirement already satisfied: certifi>=2017.4.17 in /usr/local/lib/python3.8/dist-packages (from requests->ckanapi) (2022.12.7)\n",
            "Requirement already satisfied: chardet<5,>=3.0.2 in /usr/local/lib/python3.8/dist-packages (from requests->ckanapi) (4.0.0)\n",
            "Requirement already satisfied: urllib3<1.27,>=1.21.1 in /usr/local/lib/python3.8/dist-packages (from requests->ckanapi) (1.24.3)\n",
            "Building wheels for collected packages: ckanapi, docopt\n",
            "  Building wheel for ckanapi (setup.py) ... \u001b[?25l\u001b[?25hdone\n",
            "  Created wheel for ckanapi: filename=ckanapi-4.7-py3-none-any.whl size=43312 sha256=457bd3c63ca282d57c37e583779d8ad2587acf3e751577ecc5f5f7228fb9181a\n",
            "  Stored in directory: /root/.cache/pip/wheels/0d/b2/c7/219cd5a752c2ff4fb9809216307d26f6421f6711e0f4e010ff\n",
            "  Building wheel for docopt (setup.py) ... \u001b[?25l\u001b[?25hdone\n",
            "  Created wheel for docopt: filename=docopt-0.6.2-py2.py3-none-any.whl size=13723 sha256=84636d1efd3afc0823add5e223c29697a1dafdff9b4f57740bfdc5bca82b4947\n",
            "  Stored in directory: /root/.cache/pip/wheels/56/ea/58/ead137b087d9e326852a851351d1debf4ada529b6ac0ec4e8c\n",
            "Successfully built ckanapi docopt\n",
            "Installing collected packages: docopt, ckanapi\n",
            "Successfully installed ckanapi-4.7 docopt-0.6.2\n"
          ]
        }
      ]
    },
    {
      "cell_type": "markdown",
      "source": [
        "Build CKAN API query."
      ],
      "metadata": {
        "id": "Fz_XVNHerUus"
      }
    },
    {
      "cell_type": "code",
      "execution_count": 2,
      "metadata": {
        "colab": {
          "base_uri": "https://localhost:8080/"
        },
        "id": "8ilaNW-tPtVy",
        "outputId": "0dd8c951-c9d5-4d09-cc1d-488f5cf49fe2"
      },
      "outputs": [
        {
          "output_type": "execute_result",
          "data": {
            "text/plain": [
              "<ckanapi.remoteckan.RemoteCKAN at 0x7fc5e74243a0>"
            ]
          },
          "metadata": {},
          "execution_count": 2
        }
      ],
      "source": [
        "from ckanapi import RemoteCKAN\n",
        "ua = 'ckanapiioos/1.0 (+https://ioos.us/)'\n",
        "\n",
        "#ioos_catalog = RemoteCKAN('https://data.ioos.us', user_agent=ua, get_only=True)\n",
        "ioos_catalog = RemoteCKAN('https://data.ioos.us', user_agent=ua)\n",
        "ioos_catalog"
      ]
    },
    {
      "cell_type": "markdown",
      "source": [
        "Tell me what organizations are there."
      ],
      "metadata": {
        "id": "9DISgdWPrRd0"
      }
    },
    {
      "cell_type": "code",
      "source": [
        "orgs = ioos_catalog.action.organization_list()\n",
        "print(orgs)"
      ],
      "metadata": {
        "colab": {
          "base_uri": "https://localhost:8080/"
        },
        "id": "O4joF0z8Px-m",
        "outputId": "b0bbf3d4-1500-496d-cecc-83ba754d7f0c"
      },
      "execution_count": 3,
      "outputs": [
        {
          "output_type": "stream",
          "name": "stdout",
          "text": [
            "['aoos', 'caricoos', 'cdip', 'cencoos', 'comt', 'gcoos', 'glider-dac', 'glos', 'hf-radar-dac', 'ioos', 'maracoos', 'nanoos', 'neracoos', 'noaa-co-ops', 'noaa-ndbc', 'oceansites', 'pacioos', 'sccoos', 'secoora', 'unidata', 'usgs', 'us-navy']\n"
          ]
        }
      ]
    },
    {
      "cell_type": "markdown",
      "source": [
        "Grab all the datasets available."
      ],
      "metadata": {
        "id": "yN2ELDQZrNah"
      }
    },
    {
      "cell_type": "code",
      "source": [
        "#datasets = ioos_catalog.action.package_search(fq='+cf_standard_names:mass_concentration_of_oxygen_in_sea_water', rows=50)\n",
        "datasets = ioos_catalog.action.package_search()\n",
        "datasets['count']"
      ],
      "metadata": {
        "colab": {
          "base_uri": "https://localhost:8080/"
        },
        "id": "_ov9sSwpP8VP",
        "outputId": "531e8972-8f96-47b5-d740-dfda3e87b84e"
      },
      "execution_count": 4,
      "outputs": [
        {
          "output_type": "execute_result",
          "data": {
            "text/plain": [
              "10177"
            ]
          },
          "metadata": {},
          "execution_count": 4
        }
      ]
    },
    {
      "cell_type": "markdown",
      "source": [
        "Collect CF standard names that contain `oxygen` and `sea_water` from the CF standard name list."
      ],
      "metadata": {
        "id": "rkgC5oLfmGB1"
      }
    },
    {
      "cell_type": "code",
      "source": [
        "import pandas as pd\n",
        "\n",
        "url = \"https://cfconventions.org/Data/cf-standard-names/current/src/cf-standard-name-table.xml\"\n",
        "\n",
        "df = pd.read_xml(url, xpath=\"entry\")\n",
        "\n",
        "std_names = df.loc[(df['id'].str.contains('oxygen') & df['id'].str.contains('sea_water'))]\n",
        "\n",
        "std_names"
      ],
      "metadata": {
        "colab": {
          "base_uri": "https://localhost:8080/",
          "height": 394
        },
        "id": "enKjucgnXivM",
        "outputId": "92bd961f-7082-4398-b9ee-06d369ab180d"
      },
      "execution_count": 5,
      "outputs": [
        {
          "output_type": "execute_result",
          "data": {
            "text/plain": [
              "                                                     id canonical_units  grib  \\\n",
              "444   depth_at_shallowest_local_minimum_in_vertical_...               m  None   \n",
              "588        fractional_saturation_of_oxygen_in_sea_water               1  None   \n",
              "1274          mass_concentration_of_oxygen_in_sea_water          kg m-3  None   \n",
              "1616  mole_concentration_of_dissolved_molecular_oxyg...         mol m-3  None   \n",
              "1617  mole_concentration_of_dissolved_molecular_oxyg...         mol m-3  None   \n",
              "1618  mole_concentration_of_dissolved_molecular_oxyg...         mol m-3  None   \n",
              "1848         moles_of_oxygen_per_unit_mass_in_sea_water        mol kg-1  None   \n",
              "2975  surface_molecular_oxygen_partial_pressure_diff...              Pa  None   \n",
              "3460      temperature_of_sensor_for_oxygen_in_sea_water               K  None   \n",
              "4460             volume_fraction_of_oxygen_in_sea_water               1  None   \n",
              "4463  volume_mixing_ratio_of_oxygen_at_stp_in_sea_water               1  None   \n",
              "\n",
              "      amip                                        description  \n",
              "444   None  Depth is the vertical distance below the surfa...  \n",
              "588   None  Fractional saturation is the ratio of some mea...  \n",
              "1274  None  Mass concentration means mass per unit volume ...  \n",
              "1616  None  Mole concentration means number of moles per u...  \n",
              "1617  None  \"Mole concentration at saturation\" means the m...  \n",
              "1618  None  Mole concentration means number of moles per u...  \n",
              "1848  None  moles_of_X_per_unit_mass_inY is also called \"m...  \n",
              "2975  None  The surface called \"surface\" means the lower b...  \n",
              "3460  None  Temperature_of_sensor_for_oxygen_in_sea_water ...  \n",
              "4460  None  \"Volume fraction\" is used in the construction ...  \n",
              "4463  None  \"ratio_of_X_to_Y\" means X/Y. \"stp\" means stand...  "
            ],
            "text/html": [
              "\n",
              "  <div id=\"df-369cf35c-bf59-45b7-af92-d3915140a22e\">\n",
              "    <div class=\"colab-df-container\">\n",
              "      <div>\n",
              "<style scoped>\n",
              "    .dataframe tbody tr th:only-of-type {\n",
              "        vertical-align: middle;\n",
              "    }\n",
              "\n",
              "    .dataframe tbody tr th {\n",
              "        vertical-align: top;\n",
              "    }\n",
              "\n",
              "    .dataframe thead th {\n",
              "        text-align: right;\n",
              "    }\n",
              "</style>\n",
              "<table border=\"1\" class=\"dataframe\">\n",
              "  <thead>\n",
              "    <tr style=\"text-align: right;\">\n",
              "      <th></th>\n",
              "      <th>id</th>\n",
              "      <th>canonical_units</th>\n",
              "      <th>grib</th>\n",
              "      <th>amip</th>\n",
              "      <th>description</th>\n",
              "    </tr>\n",
              "  </thead>\n",
              "  <tbody>\n",
              "    <tr>\n",
              "      <th>444</th>\n",
              "      <td>depth_at_shallowest_local_minimum_in_vertical_...</td>\n",
              "      <td>m</td>\n",
              "      <td>None</td>\n",
              "      <td>None</td>\n",
              "      <td>Depth is the vertical distance below the surfa...</td>\n",
              "    </tr>\n",
              "    <tr>\n",
              "      <th>588</th>\n",
              "      <td>fractional_saturation_of_oxygen_in_sea_water</td>\n",
              "      <td>1</td>\n",
              "      <td>None</td>\n",
              "      <td>None</td>\n",
              "      <td>Fractional saturation is the ratio of some mea...</td>\n",
              "    </tr>\n",
              "    <tr>\n",
              "      <th>1274</th>\n",
              "      <td>mass_concentration_of_oxygen_in_sea_water</td>\n",
              "      <td>kg m-3</td>\n",
              "      <td>None</td>\n",
              "      <td>None</td>\n",
              "      <td>Mass concentration means mass per unit volume ...</td>\n",
              "    </tr>\n",
              "    <tr>\n",
              "      <th>1616</th>\n",
              "      <td>mole_concentration_of_dissolved_molecular_oxyg...</td>\n",
              "      <td>mol m-3</td>\n",
              "      <td>None</td>\n",
              "      <td>None</td>\n",
              "      <td>Mole concentration means number of moles per u...</td>\n",
              "    </tr>\n",
              "    <tr>\n",
              "      <th>1617</th>\n",
              "      <td>mole_concentration_of_dissolved_molecular_oxyg...</td>\n",
              "      <td>mol m-3</td>\n",
              "      <td>None</td>\n",
              "      <td>None</td>\n",
              "      <td>\"Mole concentration at saturation\" means the m...</td>\n",
              "    </tr>\n",
              "    <tr>\n",
              "      <th>1618</th>\n",
              "      <td>mole_concentration_of_dissolved_molecular_oxyg...</td>\n",
              "      <td>mol m-3</td>\n",
              "      <td>None</td>\n",
              "      <td>None</td>\n",
              "      <td>Mole concentration means number of moles per u...</td>\n",
              "    </tr>\n",
              "    <tr>\n",
              "      <th>1848</th>\n",
              "      <td>moles_of_oxygen_per_unit_mass_in_sea_water</td>\n",
              "      <td>mol kg-1</td>\n",
              "      <td>None</td>\n",
              "      <td>None</td>\n",
              "      <td>moles_of_X_per_unit_mass_inY is also called \"m...</td>\n",
              "    </tr>\n",
              "    <tr>\n",
              "      <th>2975</th>\n",
              "      <td>surface_molecular_oxygen_partial_pressure_diff...</td>\n",
              "      <td>Pa</td>\n",
              "      <td>None</td>\n",
              "      <td>None</td>\n",
              "      <td>The surface called \"surface\" means the lower b...</td>\n",
              "    </tr>\n",
              "    <tr>\n",
              "      <th>3460</th>\n",
              "      <td>temperature_of_sensor_for_oxygen_in_sea_water</td>\n",
              "      <td>K</td>\n",
              "      <td>None</td>\n",
              "      <td>None</td>\n",
              "      <td>Temperature_of_sensor_for_oxygen_in_sea_water ...</td>\n",
              "    </tr>\n",
              "    <tr>\n",
              "      <th>4460</th>\n",
              "      <td>volume_fraction_of_oxygen_in_sea_water</td>\n",
              "      <td>1</td>\n",
              "      <td>None</td>\n",
              "      <td>None</td>\n",
              "      <td>\"Volume fraction\" is used in the construction ...</td>\n",
              "    </tr>\n",
              "    <tr>\n",
              "      <th>4463</th>\n",
              "      <td>volume_mixing_ratio_of_oxygen_at_stp_in_sea_water</td>\n",
              "      <td>1</td>\n",
              "      <td>None</td>\n",
              "      <td>None</td>\n",
              "      <td>\"ratio_of_X_to_Y\" means X/Y. \"stp\" means stand...</td>\n",
              "    </tr>\n",
              "  </tbody>\n",
              "</table>\n",
              "</div>\n",
              "      <button class=\"colab-df-convert\" onclick=\"convertToInteractive('df-369cf35c-bf59-45b7-af92-d3915140a22e')\"\n",
              "              title=\"Convert this dataframe to an interactive table.\"\n",
              "              style=\"display:none;\">\n",
              "        \n",
              "  <svg xmlns=\"http://www.w3.org/2000/svg\" height=\"24px\"viewBox=\"0 0 24 24\"\n",
              "       width=\"24px\">\n",
              "    <path d=\"M0 0h24v24H0V0z\" fill=\"none\"/>\n",
              "    <path d=\"M18.56 5.44l.94 2.06.94-2.06 2.06-.94-2.06-.94-.94-2.06-.94 2.06-2.06.94zm-11 1L8.5 8.5l.94-2.06 2.06-.94-2.06-.94L8.5 2.5l-.94 2.06-2.06.94zm10 10l.94 2.06.94-2.06 2.06-.94-2.06-.94-.94-2.06-.94 2.06-2.06.94z\"/><path d=\"M17.41 7.96l-1.37-1.37c-.4-.4-.92-.59-1.43-.59-.52 0-1.04.2-1.43.59L10.3 9.45l-7.72 7.72c-.78.78-.78 2.05 0 2.83L4 21.41c.39.39.9.59 1.41.59.51 0 1.02-.2 1.41-.59l7.78-7.78 2.81-2.81c.8-.78.8-2.07 0-2.86zM5.41 20L4 18.59l7.72-7.72 1.47 1.35L5.41 20z\"/>\n",
              "  </svg>\n",
              "      </button>\n",
              "      \n",
              "  <style>\n",
              "    .colab-df-container {\n",
              "      display:flex;\n",
              "      flex-wrap:wrap;\n",
              "      gap: 12px;\n",
              "    }\n",
              "\n",
              "    .colab-df-convert {\n",
              "      background-color: #E8F0FE;\n",
              "      border: none;\n",
              "      border-radius: 50%;\n",
              "      cursor: pointer;\n",
              "      display: none;\n",
              "      fill: #1967D2;\n",
              "      height: 32px;\n",
              "      padding: 0 0 0 0;\n",
              "      width: 32px;\n",
              "    }\n",
              "\n",
              "    .colab-df-convert:hover {\n",
              "      background-color: #E2EBFA;\n",
              "      box-shadow: 0px 1px 2px rgba(60, 64, 67, 0.3), 0px 1px 3px 1px rgba(60, 64, 67, 0.15);\n",
              "      fill: #174EA6;\n",
              "    }\n",
              "\n",
              "    [theme=dark] .colab-df-convert {\n",
              "      background-color: #3B4455;\n",
              "      fill: #D2E3FC;\n",
              "    }\n",
              "\n",
              "    [theme=dark] .colab-df-convert:hover {\n",
              "      background-color: #434B5C;\n",
              "      box-shadow: 0px 1px 3px 1px rgba(0, 0, 0, 0.15);\n",
              "      filter: drop-shadow(0px 1px 2px rgba(0, 0, 0, 0.3));\n",
              "      fill: #FFFFFF;\n",
              "    }\n",
              "  </style>\n",
              "\n",
              "      <script>\n",
              "        const buttonEl =\n",
              "          document.querySelector('#df-369cf35c-bf59-45b7-af92-d3915140a22e button.colab-df-convert');\n",
              "        buttonEl.style.display =\n",
              "          google.colab.kernel.accessAllowed ? 'block' : 'none';\n",
              "\n",
              "        async function convertToInteractive(key) {\n",
              "          const element = document.querySelector('#df-369cf35c-bf59-45b7-af92-d3915140a22e');\n",
              "          const dataTable =\n",
              "            await google.colab.kernel.invokeFunction('convertToInteractive',\n",
              "                                                     [key], {});\n",
              "          if (!dataTable) return;\n",
              "\n",
              "          const docLinkHtml = 'Like what you see? Visit the ' +\n",
              "            '<a target=\"_blank\" href=https://colab.research.google.com/notebooks/data_table.ipynb>data table notebook</a>'\n",
              "            + ' to learn more about interactive tables.';\n",
              "          element.innerHTML = '';\n",
              "          dataTable['output_type'] = 'display_data';\n",
              "          await google.colab.output.renderOutput(dataTable, element);\n",
              "          const docLink = document.createElement('div');\n",
              "          docLink.innerHTML = docLinkHtml;\n",
              "          element.appendChild(docLink);\n",
              "        }\n",
              "      </script>\n",
              "    </div>\n",
              "  </div>\n",
              "  "
            ]
          },
          "metadata": {},
          "execution_count": 5
        }
      ]
    },
    {
      "cell_type": "markdown",
      "source": [
        "Search IOOS Data Catalog for CF standard names that match those above."
      ],
      "metadata": {
        "id": "G-KxN2RlpLOu"
      }
    },
    {
      "cell_type": "code",
      "source": [
        "from ckanapi import RemoteCKAN\n",
        "ua = 'ckanapiioos/1.0 (+https://ioos.us/)'\n",
        "\n",
        "#ioos_catalog = RemoteCKAN('https://data.ioos.us', user_agent=ua, get_only=True)\n",
        "ioos_catalog = RemoteCKAN('https://data.ioos.us', user_agent=ua)\n",
        "ioos_catalog\n",
        "\n",
        "for std_name in std_names['id']:\n",
        "\n",
        "  print(std_name)\n",
        "\n",
        "  fq = '+cf_standard_names:{}'.format(std_name)\n",
        "\n",
        "  datasets = ioos_catalog.action.package_search(fq=fq)\n",
        "\n",
        "  print('found {} dataset(s)'.format(datasets['count']))\n",
        "\n",
        "  if datasets['count'] > 0:\n",
        "    for dataset in datasets['results']:\n",
        "      print('\\t',dataset['title'],dataset['resources'][0]['url'])\n",
        "  "
      ],
      "metadata": {
        "colab": {
          "base_uri": "https://localhost:8080/"
        },
        "id": "xI6wTAPqXnt1",
        "outputId": "59321652-8ab6-4063-dacd-0761f6a6e3f7"
      },
      "execution_count": 6,
      "outputs": [
        {
          "output_type": "stream",
          "name": "stdout",
          "text": [
            "depth_at_shallowest_local_minimum_in_vertical_profile_of_mole_concentration_of_dissolved_molecular_oxygen_in_sea_water\n",
            "found 0 dataset(s)\n",
            "fractional_saturation_of_oxygen_in_sea_water\n",
            "found 1132 dataset(s)\n",
            "\t C02 SBE16 Oxygen http://www.neracoos.org/erddap/tabledap/C02_sbe16_disox_all\n",
            "\t URI GSO Pier, Surface Exo http://www.neracoos.org/erddap/tabledap/URI_GSOPier_ExoTop\n",
            "\t URI 168 Mount View, Bottom Sonde http://www.neracoos.org/erddap/tabledap/URI_168-MV_BottomSonde\n",
            "\t Great Bay,NH. Squamscott River WQ station http://www.neracoos.org/erddap/tabledap/GRBSQWQ_NERRS\n",
            "\t URI Conimicut Point  Bottom Sonde http://www.neracoos.org/erddap/tabledap/URI_CPoint_BottomSonde\n",
            "\t Great Bay,NH. Great Bay WQ station http://www.neracoos.org/erddap/tabledap/GRBGBWQ_NERRS\n",
            "\t A01 SBE16 Oxygen http://www.neracoos.org/erddap/tabledap/A01_sbe16_disox_all\n",
            "\t URI Poppasquash Point Bottom Sonde http://www.neracoos.org/erddap/tabledap/URI_PP_BottomSonde\n",
            "\t URI Greenwich Bay, Surface Sonde http://www.neracoos.org/erddap/tabledap/URI_GBay_SurfaceSonde\n",
            "\t URI 169 Quonset Point, Surface Sonde http://www.neracoos.org/erddap/tabledap/URI_169-QP_SurfaceSonde\n",
            "mass_concentration_of_oxygen_in_sea_water\n",
            "found 492 dataset(s)\n",
            "\t URI GSO Pier, Surface Exo http://www.neracoos.org/erddap/tabledap/URI_GSOPier_ExoTop\n",
            "\t URI 168 Mount View, Bottom Sonde http://www.neracoos.org/erddap/tabledap/URI_168-MV_BottomSonde\n",
            "\t URI Conimicut Point  Bottom Sonde http://www.neracoos.org/erddap/tabledap/URI_CPoint_BottomSonde\n",
            "\t URI Poppasquash Point Bottom Sonde http://www.neracoos.org/erddap/tabledap/URI_PP_BottomSonde\n",
            "\t URI Greenwich Bay, Surface Sonde http://www.neracoos.org/erddap/tabledap/URI_GBay_SurfaceSonde\n",
            "\t URI 169 Quonset Point, Surface Sonde http://www.neracoos.org/erddap/tabledap/URI_169-QP_SurfaceSonde\n",
            "\t A01 Aanderaa - Realtime Surface Currents and O2 http://www.neracoos.org/erddap/tabledap/A01_aanderaa_o2_all\n",
            "\t URI North Prudence Surface Sonde http://www.neracoos.org/erddap/tabledap/URI_NP_SurfaceSonde\n",
            "\t URI 169 Quonset Point,  Bottom Sonde http://www.neracoos.org/erddap/tabledap/URI_169-QP_BottomSonde\n",
            "\t URI Poppasquash Point Surface Sonde http://www.neracoos.org/erddap/tabledap/URI_PP_SurfaceSonde\n",
            "mole_concentration_of_dissolved_molecular_oxygen_in_sea_water\n",
            "found 269 dataset(s)\n",
            "\t UNH CML Station - Coastal Marine Laboratory http://www.neracoos.org/erddap/tabledap/UNH_CML\n",
            "\t UNH Great Bay Buoy http://www.neracoos.org/erddap/tabledap/UNH_GBB\n",
            "\t UNH Appledore Island CO2 http://www.neracoos.org/erddap/tabledap/UNH_WBD\n",
            "\t * CeNCOOS in situ water quality monitoring using the seawater input for Moss Landing Marine Laboratory. https://erddap.cencoos.org/erddap/tabledap/mlml_mlml_sea\n",
            "\t NANOOS SW Washington glider deployment unit_092-20090517T1331 https://data.nanoos.org/erddap/tabledap/gliderswwash_unit_092-20090517\n",
            "\t ru05-20150105T1600 Delayed Science Profile http://erddap.maracoos.org/erddap/tabledap/ru05-20150105T1600-profile-sci-delayed\n",
            "\t ru30-20190717T1812 Delayed Science Profile http://erddap.maracoos.org/erddap/tabledap/ru30-20190717T1812-profile-sci-delayed\n",
            "\t ru05-20150201T2130 Delayed Science Profile http://erddap.maracoos.org/erddap/tabledap/ru05-20150201T2130-profile-sci-delayed\n",
            "\t ru32-20180109T0531 Delayed Science Profile http://erddap.maracoos.org/erddap/tabledap/ru32-20180109T0531-profile-sci-delayed\n",
            "\t ru30-20190201T1712 Delayed Science Profile http://erddap.maracoos.org/erddap/tabledap/ru30-20190201T1712-profile-sci-delayed\n",
            "mole_concentration_of_dissolved_molecular_oxygen_in_sea_water_at_saturation\n",
            "found 0 dataset(s)\n",
            "mole_concentration_of_dissolved_molecular_oxygen_in_sea_water_at_shallowest_local_minimum_in_vertical_profile\n",
            "found 0 dataset(s)\n",
            "moles_of_oxygen_per_unit_mass_in_sea_water\n",
            "found 671 dataset(s)\n",
            "\t NANOOS Trinidad Head glider deployment UW157-20141116T2118 https://data.nanoos.org/erddap/tabledap/glidertrinidad_UW157-20141116\n",
            "\t ce_382-20210429T1940-delayed https://gliders.ioos.us/erddap/tabledap/ce_382-20210429T1940-delayed\n",
            "\t cp_340-20210620T1735 https://gliders.ioos.us/erddap/tabledap/cp_340-20210620T1735\n",
            "\t cp_336-20161011T0058-delayed https://gliders.ioos.us/erddap/tabledap/cp_336-20161011T0058-delayed\n",
            "\t cp_376-20171028T2157-delayed https://gliders.ioos.us/erddap/tabledap/cp_376-20171028T2157-delayed\n",
            "\t gi_560-20190806T1805 https://gliders.ioos.us/thredds/dodsC/deployments/OOI-CGSN/gi_560-20190806T1805/gi_560-20190806T1805.nc3.nc\n",
            "\t cp_387-20201121T1740 https://gliders.ioos.us/thredds/dodsC/deployments/OOI-CGSN/cp_387-20201121T1740/cp_387-20201121T1740.nc3.nc\n",
            "\t ce_326-20151015T1908-delayed https://gliders.ioos.us/erddap/tabledap/ce_326-20151015T1908-delayed\n",
            "\t cp_380-20181025T2023-delayed https://gliders.ioos.us/erddap/tabledap/cp_380-20181025T2023-delayed\n",
            "\t ce_319-20170410T2034-delayed https://gliders.ioos.us/erddap/tabledap/ce_319-20170410T2034-delayed\n",
            "surface_molecular_oxygen_partial_pressure_difference_between_sea_water_and_air\n",
            "found 0 dataset(s)\n",
            "temperature_of_sensor_for_oxygen_in_sea_water\n",
            "found 89 dataset(s)\n",
            "\t ru05-20150105T1600 Delayed Science Profile http://erddap.maracoos.org/erddap/tabledap/ru05-20150105T1600-profile-sci-delayed\n",
            "\t ru05-20150201T2130 Delayed Science Profile http://erddap.maracoos.org/erddap/tabledap/ru05-20150201T2130-profile-sci-delayed\n",
            "\t ru32-20180109T0531 Delayed Science Profile http://erddap.maracoos.org/erddap/tabledap/ru32-20180109T0531-profile-sci-delayed\n",
            "\t ru05-20150115T1443 Delayed Science Profile http://erddap.maracoos.org/erddap/tabledap/ru05-20150115T1443-profile-sci-delayed\n",
            "\t ru34-20200729T1430 Real-Time Science Profile http://erddap.maracoos.org/erddap/tabledap/ru34-20200729T1430-profile-sci-rt\n",
            "\t ru33-20180801T1323 Real-Time Science Profile http://erddap.maracoos.org/erddap/tabledap/ru33-20180801T1323-profile-sci-rt\n",
            "\t ru32-20210330T1448 https://gliders.ioos.us/thredds/dodsC/deployments/rutgers/ru32-20210330T1448/ru32-20210330T1448.nc3.nc\n",
            "\t um_242-20210630T1916 https://gliders.ioos.us/thredds/dodsC/deployments/rutgers/um_242-20210630T1916/um_242-20210630T1916.nc3.nc\n",
            "\t ru34-20200729T1430 https://gliders.ioos.us/thredds/dodsC/deployments/rutgers/ru34-20200729T1430/ru34-20200729T1430.nc3.nc\n",
            "\t ru34-20211120T1900 https://gliders.ioos.us/thredds/dodsC/deployments/rutgers/ru34-20211120T1900/ru34-20211120T1900.nc3.nc\n",
            "volume_fraction_of_oxygen_in_sea_water\n",
            "found 17 dataset(s)\n",
            "\t LOBO 72 Bagaduce River http://www.neracoos.org/erddap/tabledap/LOBO_CSV_72\n",
            "\t C02 SBE16 Oxygen http://www.neracoos.org/erddap/tabledap/C02_sbe16_disox_all\n",
            "\t LOBO 2 Buoy Mid Damariscotta River http://www.neracoos.org/erddap/tabledap/LOBO_CSV_65\n",
            "\t A01 SBE16 Oxygen http://www.neracoos.org/erddap/tabledap/A01_sbe16_disox_all\n",
            "\t LOBO 70 Casco Bay 1 http://www.neracoos.org/erddap/tabledap/LOBO_CSV_70\n",
            "\t LOBO 1 Buoy Upper Damariscotta River http://www.neracoos.org/erddap/tabledap/LOBO_CSV_66\n",
            "\t A01 Optode - Oxygen http://www.neracoos.org/erddap/tabledap/A01_optode_all\n",
            "\t UNH CML Station, realtime - Coastal Marine Laboratory http://www.neracoos.org/erddap/tabledap/UNH_CML_realtime\n",
            "\t LOBO 67 Buoy Ram Island Saco Bay ME http://www.neracoos.org/erddap/tabledap/LOBO_CSV_67\n",
            "\t LOBO 64 Buoy Wood Island Harbor Saco ME http://www.neracoos.org/erddap/tabledap/LOBO_CSV_64\n",
            "volume_mixing_ratio_of_oxygen_at_stp_in_sea_water\n",
            "found 0 dataset(s)\n"
          ]
        }
      ]
    },
    {
      "cell_type": "code",
      "source": [],
      "metadata": {
        "id": "Dtq8Gbb5lxk9"
      },
      "execution_count": null,
      "outputs": []
    }
  ]
}