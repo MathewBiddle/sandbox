{
  "nbformat": 4,
  "nbformat_minor": 0,
  "metadata": {
    "colab": {
      "provenance": [],
      "authorship_tag": "ABX9TyPqfwrgzHMeuYMNljOuhIix",
      "include_colab_link": true
    },
    "kernelspec": {
      "name": "python3",
      "display_name": "Python 3"
    },
    "language_info": {
      "name": "python"
    }
  },
  "cells": [
    {
      "cell_type": "markdown",
      "metadata": {
        "id": "view-in-github",
        "colab_type": "text"
      },
      "source": [
        "<a href=\"https://colab.research.google.com/github/MathewBiddle/sandbox/blob/main/notebooks/CKAN_API_Query.ipynb\" target=\"_parent\"><img src=\"https://colab.research.google.com/assets/colab-badge.svg\" alt=\"Open In Colab\"/></a>"
      ]
    },
    {
      "cell_type": "markdown",
      "source": [
        "Search [IOOS Data Catalog](https://data.ioos.us/) for CF standard names that contain `oxygen` and `sea_water`."
      ],
      "metadata": {
        "id": "Dl6UQcydrdtx"
      }
    },
    {
      "cell_type": "code",
      "source": [
        "try:\n",
        "   import ckanapi\n",
        "except:\n",
        "   !pip install ckanapi"
      ],
      "metadata": {
        "id": "AIX-_9o2P07V"
      },
      "execution_count": 59,
      "outputs": []
    },
    {
      "cell_type": "markdown",
      "source": [
        "Build CKAN API query."
      ],
      "metadata": {
        "id": "Fz_XVNHerUus"
      }
    },
    {
      "cell_type": "code",
      "execution_count": 19,
      "metadata": {
        "colab": {
          "base_uri": "https://localhost:8080/"
        },
        "id": "8ilaNW-tPtVy",
        "outputId": "68c447d2-afd5-4543-d280-dce16e87b2c9"
      },
      "outputs": [
        {
          "output_type": "execute_result",
          "data": {
            "text/plain": [
              "<ckanapi.remoteckan.RemoteCKAN at 0x7f10486060d0>"
            ]
          },
          "metadata": {},
          "execution_count": 19
        }
      ],
      "source": [
        "from ckanapi import RemoteCKAN\n",
        "ua = 'ckanapiioos/1.0 (+https://ioos.us/)'\n",
        "\n",
        "#ioos_catalog = RemoteCKAN('https://data.ioos.us', user_agent=ua, get_only=True)\n",
        "ioos_catalog = RemoteCKAN('https://data.ioos.us', user_agent=ua)\n",
        "ioos_catalog"
      ]
    },
    {
      "cell_type": "markdown",
      "source": [
        "Tell me what organizations are there."
      ],
      "metadata": {
        "id": "9DISgdWPrRd0"
      }
    },
    {
      "cell_type": "code",
      "source": [
        "orgs = ioos_catalog.action.organization_list()\n",
        "print(orgs)"
      ],
      "metadata": {
        "colab": {
          "base_uri": "https://localhost:8080/"
        },
        "id": "O4joF0z8Px-m",
        "outputId": "0e5fe7f4-7ead-4f38-ccce-9b9c29fc8291"
      },
      "execution_count": 20,
      "outputs": [
        {
          "output_type": "stream",
          "name": "stdout",
          "text": [
            "['aoos', 'caricoos', 'cdip', 'cencoos', 'comt', 'gcoos', 'glider-dac', 'glos', 'hf-radar-dac', 'ioos', 'maracoos', 'nanoos', 'neracoos', 'noaa-co-ops', 'noaa-ndbc', 'oceansites', 'pacioos', 'sccoos', 'secoora', 'unidata', 'usgs', 'us-navy']\n"
          ]
        }
      ]
    },
    {
      "cell_type": "markdown",
      "source": [
        "Grab all the datasets available."
      ],
      "metadata": {
        "id": "yN2ELDQZrNah"
      }
    },
    {
      "cell_type": "code",
      "source": [
        "#datasets = ioos_catalog.action.package_search(fq='+cf_standard_names:mass_concentration_of_oxygen_in_sea_water', rows=50)\n",
        "datasets = ioos_catalog.action.package_search()\n",
        "datasets['count']"
      ],
      "metadata": {
        "colab": {
          "base_uri": "https://localhost:8080/"
        },
        "id": "_ov9sSwpP8VP",
        "outputId": "ec7fc109-a25c-47da-8a0b-d5e81c89a48f"
      },
      "execution_count": 40,
      "outputs": [
        {
          "output_type": "execute_result",
          "data": {
            "text/plain": [
              "6"
            ]
          },
          "metadata": {},
          "execution_count": 40
        }
      ]
    },
    {
      "cell_type": "markdown",
      "source": [
        "Collect CF standard names that contain `oxygen` and `sea_water` from the CF standard name list."
      ],
      "metadata": {
        "id": "rkgC5oLfmGB1"
      }
    },
    {
      "cell_type": "code",
      "source": [
        "import pandas as pd\n",
        "\n",
        "url = \"https://cfconventions.org/Data/cf-standard-names/current/src/cf-standard-name-table.xml\"\n",
        "\n",
        "df = pd.read_xml(url, xpath=\"entry\")\n",
        "\n",
        "std_names = df.loc[(df['id'].str.contains('oxygen') & df['id'].str.contains('sea_water'))]\n",
        "\n",
        "std_names"
      ],
      "metadata": {
        "colab": {
          "base_uri": "https://localhost:8080/",
          "height": 394
        },
        "id": "enKjucgnXivM",
        "outputId": "446fb636-dc50-4452-db5f-02e7cbf057b4"
      },
      "execution_count": 30,
      "outputs": [
        {
          "output_type": "execute_result",
          "data": {
            "text/plain": [
              "                                                     id canonical_units  grib  \\\n",
              "444   depth_at_shallowest_local_minimum_in_vertical_...               m  None   \n",
              "588        fractional_saturation_of_oxygen_in_sea_water               1  None   \n",
              "1274          mass_concentration_of_oxygen_in_sea_water          kg m-3  None   \n",
              "1616  mole_concentration_of_dissolved_molecular_oxyg...         mol m-3  None   \n",
              "1617  mole_concentration_of_dissolved_molecular_oxyg...         mol m-3  None   \n",
              "1618  mole_concentration_of_dissolved_molecular_oxyg...         mol m-3  None   \n",
              "1848         moles_of_oxygen_per_unit_mass_in_sea_water        mol kg-1  None   \n",
              "2975  surface_molecular_oxygen_partial_pressure_diff...              Pa  None   \n",
              "3460      temperature_of_sensor_for_oxygen_in_sea_water               K  None   \n",
              "4460             volume_fraction_of_oxygen_in_sea_water               1  None   \n",
              "4463  volume_mixing_ratio_of_oxygen_at_stp_in_sea_water               1  None   \n",
              "\n",
              "      amip                                        description  \n",
              "444   None  Depth is the vertical distance below the surfa...  \n",
              "588   None  Fractional saturation is the ratio of some mea...  \n",
              "1274  None  Mass concentration means mass per unit volume ...  \n",
              "1616  None  Mole concentration means number of moles per u...  \n",
              "1617  None  \"Mole concentration at saturation\" means the m...  \n",
              "1618  None  Mole concentration means number of moles per u...  \n",
              "1848  None  moles_of_X_per_unit_mass_inY is also called \"m...  \n",
              "2975  None  The surface called \"surface\" means the lower b...  \n",
              "3460  None  Temperature_of_sensor_for_oxygen_in_sea_water ...  \n",
              "4460  None  \"Volume fraction\" is used in the construction ...  \n",
              "4463  None  \"ratio_of_X_to_Y\" means X/Y. \"stp\" means stand...  "
            ],
            "text/html": [
              "\n",
              "  <div id=\"df-f29a963d-af4a-4a6a-a94f-b55693b336ff\">\n",
              "    <div class=\"colab-df-container\">\n",
              "      <div>\n",
              "<style scoped>\n",
              "    .dataframe tbody tr th:only-of-type {\n",
              "        vertical-align: middle;\n",
              "    }\n",
              "\n",
              "    .dataframe tbody tr th {\n",
              "        vertical-align: top;\n",
              "    }\n",
              "\n",
              "    .dataframe thead th {\n",
              "        text-align: right;\n",
              "    }\n",
              "</style>\n",
              "<table border=\"1\" class=\"dataframe\">\n",
              "  <thead>\n",
              "    <tr style=\"text-align: right;\">\n",
              "      <th></th>\n",
              "      <th>id</th>\n",
              "      <th>canonical_units</th>\n",
              "      <th>grib</th>\n",
              "      <th>amip</th>\n",
              "      <th>description</th>\n",
              "    </tr>\n",
              "  </thead>\n",
              "  <tbody>\n",
              "    <tr>\n",
              "      <th>444</th>\n",
              "      <td>depth_at_shallowest_local_minimum_in_vertical_...</td>\n",
              "      <td>m</td>\n",
              "      <td>None</td>\n",
              "      <td>None</td>\n",
              "      <td>Depth is the vertical distance below the surfa...</td>\n",
              "    </tr>\n",
              "    <tr>\n",
              "      <th>588</th>\n",
              "      <td>fractional_saturation_of_oxygen_in_sea_water</td>\n",
              "      <td>1</td>\n",
              "      <td>None</td>\n",
              "      <td>None</td>\n",
              "      <td>Fractional saturation is the ratio of some mea...</td>\n",
              "    </tr>\n",
              "    <tr>\n",
              "      <th>1274</th>\n",
              "      <td>mass_concentration_of_oxygen_in_sea_water</td>\n",
              "      <td>kg m-3</td>\n",
              "      <td>None</td>\n",
              "      <td>None</td>\n",
              "      <td>Mass concentration means mass per unit volume ...</td>\n",
              "    </tr>\n",
              "    <tr>\n",
              "      <th>1616</th>\n",
              "      <td>mole_concentration_of_dissolved_molecular_oxyg...</td>\n",
              "      <td>mol m-3</td>\n",
              "      <td>None</td>\n",
              "      <td>None</td>\n",
              "      <td>Mole concentration means number of moles per u...</td>\n",
              "    </tr>\n",
              "    <tr>\n",
              "      <th>1617</th>\n",
              "      <td>mole_concentration_of_dissolved_molecular_oxyg...</td>\n",
              "      <td>mol m-3</td>\n",
              "      <td>None</td>\n",
              "      <td>None</td>\n",
              "      <td>\"Mole concentration at saturation\" means the m...</td>\n",
              "    </tr>\n",
              "    <tr>\n",
              "      <th>1618</th>\n",
              "      <td>mole_concentration_of_dissolved_molecular_oxyg...</td>\n",
              "      <td>mol m-3</td>\n",
              "      <td>None</td>\n",
              "      <td>None</td>\n",
              "      <td>Mole concentration means number of moles per u...</td>\n",
              "    </tr>\n",
              "    <tr>\n",
              "      <th>1848</th>\n",
              "      <td>moles_of_oxygen_per_unit_mass_in_sea_water</td>\n",
              "      <td>mol kg-1</td>\n",
              "      <td>None</td>\n",
              "      <td>None</td>\n",
              "      <td>moles_of_X_per_unit_mass_inY is also called \"m...</td>\n",
              "    </tr>\n",
              "    <tr>\n",
              "      <th>2975</th>\n",
              "      <td>surface_molecular_oxygen_partial_pressure_diff...</td>\n",
              "      <td>Pa</td>\n",
              "      <td>None</td>\n",
              "      <td>None</td>\n",
              "      <td>The surface called \"surface\" means the lower b...</td>\n",
              "    </tr>\n",
              "    <tr>\n",
              "      <th>3460</th>\n",
              "      <td>temperature_of_sensor_for_oxygen_in_sea_water</td>\n",
              "      <td>K</td>\n",
              "      <td>None</td>\n",
              "      <td>None</td>\n",
              "      <td>Temperature_of_sensor_for_oxygen_in_sea_water ...</td>\n",
              "    </tr>\n",
              "    <tr>\n",
              "      <th>4460</th>\n",
              "      <td>volume_fraction_of_oxygen_in_sea_water</td>\n",
              "      <td>1</td>\n",
              "      <td>None</td>\n",
              "      <td>None</td>\n",
              "      <td>\"Volume fraction\" is used in the construction ...</td>\n",
              "    </tr>\n",
              "    <tr>\n",
              "      <th>4463</th>\n",
              "      <td>volume_mixing_ratio_of_oxygen_at_stp_in_sea_water</td>\n",
              "      <td>1</td>\n",
              "      <td>None</td>\n",
              "      <td>None</td>\n",
              "      <td>\"ratio_of_X_to_Y\" means X/Y. \"stp\" means stand...</td>\n",
              "    </tr>\n",
              "  </tbody>\n",
              "</table>\n",
              "</div>\n",
              "      <button class=\"colab-df-convert\" onclick=\"convertToInteractive('df-f29a963d-af4a-4a6a-a94f-b55693b336ff')\"\n",
              "              title=\"Convert this dataframe to an interactive table.\"\n",
              "              style=\"display:none;\">\n",
              "        \n",
              "  <svg xmlns=\"http://www.w3.org/2000/svg\" height=\"24px\"viewBox=\"0 0 24 24\"\n",
              "       width=\"24px\">\n",
              "    <path d=\"M0 0h24v24H0V0z\" fill=\"none\"/>\n",
              "    <path d=\"M18.56 5.44l.94 2.06.94-2.06 2.06-.94-2.06-.94-.94-2.06-.94 2.06-2.06.94zm-11 1L8.5 8.5l.94-2.06 2.06-.94-2.06-.94L8.5 2.5l-.94 2.06-2.06.94zm10 10l.94 2.06.94-2.06 2.06-.94-2.06-.94-.94-2.06-.94 2.06-2.06.94z\"/><path d=\"M17.41 7.96l-1.37-1.37c-.4-.4-.92-.59-1.43-.59-.52 0-1.04.2-1.43.59L10.3 9.45l-7.72 7.72c-.78.78-.78 2.05 0 2.83L4 21.41c.39.39.9.59 1.41.59.51 0 1.02-.2 1.41-.59l7.78-7.78 2.81-2.81c.8-.78.8-2.07 0-2.86zM5.41 20L4 18.59l7.72-7.72 1.47 1.35L5.41 20z\"/>\n",
              "  </svg>\n",
              "      </button>\n",
              "      \n",
              "  <style>\n",
              "    .colab-df-container {\n",
              "      display:flex;\n",
              "      flex-wrap:wrap;\n",
              "      gap: 12px;\n",
              "    }\n",
              "\n",
              "    .colab-df-convert {\n",
              "      background-color: #E8F0FE;\n",
              "      border: none;\n",
              "      border-radius: 50%;\n",
              "      cursor: pointer;\n",
              "      display: none;\n",
              "      fill: #1967D2;\n",
              "      height: 32px;\n",
              "      padding: 0 0 0 0;\n",
              "      width: 32px;\n",
              "    }\n",
              "\n",
              "    .colab-df-convert:hover {\n",
              "      background-color: #E2EBFA;\n",
              "      box-shadow: 0px 1px 2px rgba(60, 64, 67, 0.3), 0px 1px 3px 1px rgba(60, 64, 67, 0.15);\n",
              "      fill: #174EA6;\n",
              "    }\n",
              "\n",
              "    [theme=dark] .colab-df-convert {\n",
              "      background-color: #3B4455;\n",
              "      fill: #D2E3FC;\n",
              "    }\n",
              "\n",
              "    [theme=dark] .colab-df-convert:hover {\n",
              "      background-color: #434B5C;\n",
              "      box-shadow: 0px 1px 3px 1px rgba(0, 0, 0, 0.15);\n",
              "      filter: drop-shadow(0px 1px 2px rgba(0, 0, 0, 0.3));\n",
              "      fill: #FFFFFF;\n",
              "    }\n",
              "  </style>\n",
              "\n",
              "      <script>\n",
              "        const buttonEl =\n",
              "          document.querySelector('#df-f29a963d-af4a-4a6a-a94f-b55693b336ff button.colab-df-convert');\n",
              "        buttonEl.style.display =\n",
              "          google.colab.kernel.accessAllowed ? 'block' : 'none';\n",
              "\n",
              "        async function convertToInteractive(key) {\n",
              "          const element = document.querySelector('#df-f29a963d-af4a-4a6a-a94f-b55693b336ff');\n",
              "          const dataTable =\n",
              "            await google.colab.kernel.invokeFunction('convertToInteractive',\n",
              "                                                     [key], {});\n",
              "          if (!dataTable) return;\n",
              "\n",
              "          const docLinkHtml = 'Like what you see? Visit the ' +\n",
              "            '<a target=\"_blank\" href=https://colab.research.google.com/notebooks/data_table.ipynb>data table notebook</a>'\n",
              "            + ' to learn more about interactive tables.';\n",
              "          element.innerHTML = '';\n",
              "          dataTable['output_type'] = 'display_data';\n",
              "          await google.colab.output.renderOutput(dataTable, element);\n",
              "          const docLink = document.createElement('div');\n",
              "          docLink.innerHTML = docLinkHtml;\n",
              "          element.appendChild(docLink);\n",
              "        }\n",
              "      </script>\n",
              "    </div>\n",
              "  </div>\n",
              "  "
            ]
          },
          "metadata": {},
          "execution_count": 30
        }
      ]
    },
    {
      "cell_type": "markdown",
      "source": [
        "Search IOOS Data Catalog for CF standard names that match those above."
      ],
      "metadata": {
        "id": "G-KxN2RlpLOu"
      }
    },
    {
      "cell_type": "code",
      "source": [
        "from ckanapi import RemoteCKAN\n",
        "ua = 'ckanapiioos/1.0 (+https://ioos.us/)'\n",
        "\n",
        "#ioos_catalog = RemoteCKAN('https://data.ioos.us', user_agent=ua, get_only=True)\n",
        "ioos_catalog = RemoteCKAN('https://data.ioos.us', user_agent=ua)\n",
        "ioos_catalog\n",
        "\n",
        "for std_name in std_names['id']:\n",
        "\n",
        "  print(std_name)\n",
        "\n",
        "  fq = '+cf_standard_names:{}'.format(std_name)\n",
        "\n",
        "  datasets = ioos_catalog.action.package_search(fq=fq)\n",
        "\n",
        "  print('found {} dataset(s)'.format(datasets['count']))\n",
        "\n",
        "  if datasets['count'] > 0:\n",
        "    for dataset in datasets['results']:\n",
        "      print('\\t',dataset['title'],dataset['resources'][0]['url'])\n",
        "  "
      ],
      "metadata": {
        "colab": {
          "base_uri": "https://localhost:8080/"
        },
        "id": "xI6wTAPqXnt1",
        "outputId": "7c28cbc7-f56a-42f7-88a3-ac9786336259"
      },
      "execution_count": 58,
      "outputs": [
        {
          "output_type": "stream",
          "name": "stdout",
          "text": [
            "depth_at_shallowest_local_minimum_in_vertical_profile_of_mole_concentration_of_dissolved_molecular_oxygen_in_sea_water\n",
            "found 0 dataset(s)\n",
            "fractional_saturation_of_oxygen_in_sea_water\n",
            "found 1 dataset(s)\n",
            "\t ce_311-20190703T1802 https://gliders.ioos.us/thredds/dodsC/deployments/OOI-CE/ce_311-20190703T1802/ce_311-20190703T1802.nc3.nc\n",
            "mass_concentration_of_oxygen_in_sea_water\n",
            "found 0 dataset(s)\n",
            "mole_concentration_of_dissolved_molecular_oxygen_in_sea_water\n",
            "found 1 dataset(s)\n",
            "\t ce_311-20190703T1802 https://gliders.ioos.us/thredds/dodsC/deployments/OOI-CE/ce_311-20190703T1802/ce_311-20190703T1802.nc3.nc\n",
            "mole_concentration_of_dissolved_molecular_oxygen_in_sea_water_at_saturation\n",
            "found 0 dataset(s)\n",
            "mole_concentration_of_dissolved_molecular_oxygen_in_sea_water_at_shallowest_local_minimum_in_vertical_profile\n",
            "found 0 dataset(s)\n",
            "moles_of_oxygen_per_unit_mass_in_sea_water\n",
            "found 0 dataset(s)\n",
            "surface_molecular_oxygen_partial_pressure_difference_between_sea_water_and_air\n",
            "found 0 dataset(s)\n",
            "temperature_of_sensor_for_oxygen_in_sea_water\n",
            "found 0 dataset(s)\n",
            "volume_fraction_of_oxygen_in_sea_water\n",
            "found 0 dataset(s)\n",
            "volume_mixing_ratio_of_oxygen_at_stp_in_sea_water\n",
            "found 0 dataset(s)\n"
          ]
        }
      ]
    },
    {
      "cell_type": "code",
      "source": [],
      "metadata": {
        "id": "Dtq8Gbb5lxk9"
      },
      "execution_count": null,
      "outputs": []
    }
  ]
}