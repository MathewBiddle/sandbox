{
  "nbformat": 4,
  "nbformat_minor": 0,
  "metadata": {
    "colab": {
      "provenance": [],
      "authorship_tag": "ABX9TyMk5StLqhT1cQkg7bZiGgfa",
      "include_colab_link": true
    },
    "kernelspec": {
      "name": "python3",
      "display_name": "Python 3"
    },
    "language_info": {
      "name": "python"
    }
  },
  "cells": [
    {
      "cell_type": "markdown",
      "metadata": {
        "id": "view-in-github",
        "colab_type": "text"
      },
      "source": [
        "<a href=\"https://colab.research.google.com/github/MathewBiddle/sandbox/blob/main/notebooks/WODsummaryofcastsbyyear.ipynb\" target=\"_parent\"><img src=\"https://colab.research.google.com/assets/colab-badge.svg\" alt=\"Open In Colab\"/></a>"
      ]
    },
    {
      "cell_type": "code",
      "execution_count": 12,
      "metadata": {
        "id": "rO0PDIZ1pcW3"
      },
      "outputs": [],
      "source": [
        "import xarray as xr\n",
        "import pandas as pd"
      ]
    },
    {
      "cell_type": "code",
      "source": [
        "url = 'https://www.ncei.noaa.gov/thredds-ocean/dodsC/ncei/wod/2022/wod_osd_2022.nc'\n",
        "\n",
        "dates = range(1900,2024)\n",
        "\n",
        "dates"
      ],
      "metadata": {
        "colab": {
          "base_uri": "https://localhost:8080/"
        },
        "id": "PCqxitTbputl",
        "outputId": "046616db-2793-4652-b6ef-d46505faa49c"
      },
      "execution_count": 13,
      "outputs": [
        {
          "output_type": "execute_result",
          "data": {
            "text/plain": [
              "range(1900, 2024)"
            ]
          },
          "metadata": {},
          "execution_count": 13
        }
      ]
    },
    {
      "cell_type": "code",
      "source": [
        "for date in dates:\n",
        "\n",
        "  url=f'https://www.ncei.noaa.gov/thredds-ocean/dodsC/ncei/wod/{date}/wod_osd_{date}.nc'\n",
        "\n",
        "  try:\n",
        "    ds = xr.open_dataset(url)\n",
        "  except:\n",
        "    print(f'{url} failed.')\n",
        "    continue\n",
        "\n",
        "  data = ds[['unique_cast','lat','lon','time']].to_dataframe()\n",
        "\n",
        "  casts = pd.concat([casts, data], ignore_index=True)\n",
        "\n",
        "casts"
      ],
      "metadata": {
        "colab": {
          "base_uri": "https://localhost:8080/",
          "height": 1000
        },
        "id": "GAlAD6kgp-Jl",
        "outputId": "3ce61a03-f611-4d75-9c4d-fed66b6b231a"
      },
      "execution_count": 15,
      "outputs": [
        {
          "output_type": "stream",
          "name": "stdout",
          "text": [
            "https://www.ncei.noaa.gov/thredds-ocean/dodsC/ncei/wod/1900/wod_osd_1900.nc failed.\n",
            "https://www.ncei.noaa.gov/thredds-ocean/dodsC/ncei/wod/1901/wod_osd_1901.nc failed.\n",
            "https://www.ncei.noaa.gov/thredds-ocean/dodsC/ncei/wod/1902/wod_osd_1902.nc failed.\n",
            "https://www.ncei.noaa.gov/thredds-ocean/dodsC/ncei/wod/1903/wod_osd_1903.nc failed.\n",
            "https://www.ncei.noaa.gov/thredds-ocean/dodsC/ncei/wod/1904/wod_osd_1904.nc failed.\n",
            "https://www.ncei.noaa.gov/thredds-ocean/dodsC/ncei/wod/1905/wod_osd_1905.nc failed.\n",
            "https://www.ncei.noaa.gov/thredds-ocean/dodsC/ncei/wod/1906/wod_osd_1906.nc failed.\n",
            "https://www.ncei.noaa.gov/thredds-ocean/dodsC/ncei/wod/1907/wod_osd_1907.nc failed.\n",
            "https://www.ncei.noaa.gov/thredds-ocean/dodsC/ncei/wod/1908/wod_osd_1908.nc failed.\n",
            "https://www.ncei.noaa.gov/thredds-ocean/dodsC/ncei/wod/1909/wod_osd_1909.nc failed.\n",
            "https://www.ncei.noaa.gov/thredds-ocean/dodsC/ncei/wod/1910/wod_osd_1910.nc failed.\n",
            "https://www.ncei.noaa.gov/thredds-ocean/dodsC/ncei/wod/1911/wod_osd_1911.nc failed.\n",
            "https://www.ncei.noaa.gov/thredds-ocean/dodsC/ncei/wod/1912/wod_osd_1912.nc failed.\n",
            "https://www.ncei.noaa.gov/thredds-ocean/dodsC/ncei/wod/1913/wod_osd_1913.nc failed.\n",
            "https://www.ncei.noaa.gov/thredds-ocean/dodsC/ncei/wod/1914/wod_osd_1914.nc failed.\n",
            "https://www.ncei.noaa.gov/thredds-ocean/dodsC/ncei/wod/1915/wod_osd_1915.nc failed.\n",
            "https://www.ncei.noaa.gov/thredds-ocean/dodsC/ncei/wod/1916/wod_osd_1916.nc failed.\n",
            "https://www.ncei.noaa.gov/thredds-ocean/dodsC/ncei/wod/1917/wod_osd_1917.nc failed.\n",
            "https://www.ncei.noaa.gov/thredds-ocean/dodsC/ncei/wod/1918/wod_osd_1918.nc failed.\n",
            "https://www.ncei.noaa.gov/thredds-ocean/dodsC/ncei/wod/1919/wod_osd_1919.nc failed.\n",
            "https://www.ncei.noaa.gov/thredds-ocean/dodsC/ncei/wod/1920/wod_osd_1920.nc failed.\n",
            "https://www.ncei.noaa.gov/thredds-ocean/dodsC/ncei/wod/1921/wod_osd_1921.nc failed.\n",
            "https://www.ncei.noaa.gov/thredds-ocean/dodsC/ncei/wod/1922/wod_osd_1922.nc failed.\n",
            "https://www.ncei.noaa.gov/thredds-ocean/dodsC/ncei/wod/1923/wod_osd_1923.nc failed.\n",
            "https://www.ncei.noaa.gov/thredds-ocean/dodsC/ncei/wod/1924/wod_osd_1924.nc failed.\n",
            "https://www.ncei.noaa.gov/thredds-ocean/dodsC/ncei/wod/1925/wod_osd_1925.nc failed.\n",
            "https://www.ncei.noaa.gov/thredds-ocean/dodsC/ncei/wod/1926/wod_osd_1926.nc failed.\n",
            "https://www.ncei.noaa.gov/thredds-ocean/dodsC/ncei/wod/1927/wod_osd_1927.nc failed.\n",
            "https://www.ncei.noaa.gov/thredds-ocean/dodsC/ncei/wod/1928/wod_osd_1928.nc failed.\n",
            "https://www.ncei.noaa.gov/thredds-ocean/dodsC/ncei/wod/1929/wod_osd_1929.nc failed.\n",
            "https://www.ncei.noaa.gov/thredds-ocean/dodsC/ncei/wod/1930/wod_osd_1930.nc failed.\n",
            "https://www.ncei.noaa.gov/thredds-ocean/dodsC/ncei/wod/1931/wod_osd_1931.nc failed.\n",
            "https://www.ncei.noaa.gov/thredds-ocean/dodsC/ncei/wod/1932/wod_osd_1932.nc failed.\n",
            "https://www.ncei.noaa.gov/thredds-ocean/dodsC/ncei/wod/1933/wod_osd_1933.nc failed.\n",
            "https://www.ncei.noaa.gov/thredds-ocean/dodsC/ncei/wod/1934/wod_osd_1934.nc failed.\n",
            "https://www.ncei.noaa.gov/thredds-ocean/dodsC/ncei/wod/1935/wod_osd_1935.nc failed.\n",
            "https://www.ncei.noaa.gov/thredds-ocean/dodsC/ncei/wod/1936/wod_osd_1936.nc failed.\n",
            "https://www.ncei.noaa.gov/thredds-ocean/dodsC/ncei/wod/1937/wod_osd_1937.nc failed.\n",
            "https://www.ncei.noaa.gov/thredds-ocean/dodsC/ncei/wod/1938/wod_osd_1938.nc failed.\n",
            "https://www.ncei.noaa.gov/thredds-ocean/dodsC/ncei/wod/1939/wod_osd_1939.nc failed.\n",
            "https://www.ncei.noaa.gov/thredds-ocean/dodsC/ncei/wod/1940/wod_osd_1940.nc failed.\n",
            "https://www.ncei.noaa.gov/thredds-ocean/dodsC/ncei/wod/1941/wod_osd_1941.nc failed.\n",
            "https://www.ncei.noaa.gov/thredds-ocean/dodsC/ncei/wod/1942/wod_osd_1942.nc failed.\n",
            "https://www.ncei.noaa.gov/thredds-ocean/dodsC/ncei/wod/1943/wod_osd_1943.nc failed.\n",
            "https://www.ncei.noaa.gov/thredds-ocean/dodsC/ncei/wod/1944/wod_osd_1944.nc failed.\n",
            "https://www.ncei.noaa.gov/thredds-ocean/dodsC/ncei/wod/1945/wod_osd_1945.nc failed.\n",
            "https://www.ncei.noaa.gov/thredds-ocean/dodsC/ncei/wod/1946/wod_osd_1946.nc failed.\n",
            "https://www.ncei.noaa.gov/thredds-ocean/dodsC/ncei/wod/1947/wod_osd_1947.nc failed.\n",
            "https://www.ncei.noaa.gov/thredds-ocean/dodsC/ncei/wod/1948/wod_osd_1948.nc failed.\n",
            "https://www.ncei.noaa.gov/thredds-ocean/dodsC/ncei/wod/1949/wod_osd_1949.nc failed.\n",
            "https://www.ncei.noaa.gov/thredds-ocean/dodsC/ncei/wod/1950/wod_osd_1950.nc failed.\n",
            "https://www.ncei.noaa.gov/thredds-ocean/dodsC/ncei/wod/1951/wod_osd_1951.nc failed.\n",
            "https://www.ncei.noaa.gov/thredds-ocean/dodsC/ncei/wod/1952/wod_osd_1952.nc failed.\n",
            "https://www.ncei.noaa.gov/thredds-ocean/dodsC/ncei/wod/1953/wod_osd_1953.nc failed.\n",
            "https://www.ncei.noaa.gov/thredds-ocean/dodsC/ncei/wod/1954/wod_osd_1954.nc failed.\n",
            "https://www.ncei.noaa.gov/thredds-ocean/dodsC/ncei/wod/1955/wod_osd_1955.nc failed.\n",
            "https://www.ncei.noaa.gov/thredds-ocean/dodsC/ncei/wod/1956/wod_osd_1956.nc failed.\n",
            "https://www.ncei.noaa.gov/thredds-ocean/dodsC/ncei/wod/1957/wod_osd_1957.nc failed.\n",
            "https://www.ncei.noaa.gov/thredds-ocean/dodsC/ncei/wod/1958/wod_osd_1958.nc failed.\n",
            "https://www.ncei.noaa.gov/thredds-ocean/dodsC/ncei/wod/1959/wod_osd_1959.nc failed.\n",
            "https://www.ncei.noaa.gov/thredds-ocean/dodsC/ncei/wod/1960/wod_osd_1960.nc failed.\n",
            "https://www.ncei.noaa.gov/thredds-ocean/dodsC/ncei/wod/1961/wod_osd_1961.nc failed.\n",
            "https://www.ncei.noaa.gov/thredds-ocean/dodsC/ncei/wod/1962/wod_osd_1962.nc failed.\n",
            "https://www.ncei.noaa.gov/thredds-ocean/dodsC/ncei/wod/1963/wod_osd_1963.nc failed.\n",
            "https://www.ncei.noaa.gov/thredds-ocean/dodsC/ncei/wod/1964/wod_osd_1964.nc failed.\n",
            "https://www.ncei.noaa.gov/thredds-ocean/dodsC/ncei/wod/1965/wod_osd_1965.nc failed.\n",
            "https://www.ncei.noaa.gov/thredds-ocean/dodsC/ncei/wod/1966/wod_osd_1966.nc failed.\n",
            "https://www.ncei.noaa.gov/thredds-ocean/dodsC/ncei/wod/1967/wod_osd_1967.nc failed.\n",
            "https://www.ncei.noaa.gov/thredds-ocean/dodsC/ncei/wod/1968/wod_osd_1968.nc failed.\n",
            "https://www.ncei.noaa.gov/thredds-ocean/dodsC/ncei/wod/1969/wod_osd_1969.nc failed.\n",
            "https://www.ncei.noaa.gov/thredds-ocean/dodsC/ncei/wod/1970/wod_osd_1970.nc failed.\n",
            "https://www.ncei.noaa.gov/thredds-ocean/dodsC/ncei/wod/1971/wod_osd_1971.nc failed.\n",
            "https://www.ncei.noaa.gov/thredds-ocean/dodsC/ncei/wod/1972/wod_osd_1972.nc failed.\n",
            "https://www.ncei.noaa.gov/thredds-ocean/dodsC/ncei/wod/1973/wod_osd_1973.nc failed.\n",
            "https://www.ncei.noaa.gov/thredds-ocean/dodsC/ncei/wod/1974/wod_osd_1974.nc failed.\n",
            "https://www.ncei.noaa.gov/thredds-ocean/dodsC/ncei/wod/1975/wod_osd_1975.nc failed.\n",
            "https://www.ncei.noaa.gov/thredds-ocean/dodsC/ncei/wod/1976/wod_osd_1976.nc failed.\n",
            "https://www.ncei.noaa.gov/thredds-ocean/dodsC/ncei/wod/1977/wod_osd_1977.nc failed.\n",
            "https://www.ncei.noaa.gov/thredds-ocean/dodsC/ncei/wod/1978/wod_osd_1978.nc failed.\n",
            "https://www.ncei.noaa.gov/thredds-ocean/dodsC/ncei/wod/1979/wod_osd_1979.nc failed.\n",
            "https://www.ncei.noaa.gov/thredds-ocean/dodsC/ncei/wod/1980/wod_osd_1980.nc failed.\n",
            "https://www.ncei.noaa.gov/thredds-ocean/dodsC/ncei/wod/1981/wod_osd_1981.nc failed.\n",
            "https://www.ncei.noaa.gov/thredds-ocean/dodsC/ncei/wod/1982/wod_osd_1982.nc failed.\n",
            "https://www.ncei.noaa.gov/thredds-ocean/dodsC/ncei/wod/1983/wod_osd_1983.nc failed.\n",
            "https://www.ncei.noaa.gov/thredds-ocean/dodsC/ncei/wod/1984/wod_osd_1984.nc failed.\n",
            "https://www.ncei.noaa.gov/thredds-ocean/dodsC/ncei/wod/1985/wod_osd_1985.nc failed.\n",
            "https://www.ncei.noaa.gov/thredds-ocean/dodsC/ncei/wod/1986/wod_osd_1986.nc failed.\n",
            "https://www.ncei.noaa.gov/thredds-ocean/dodsC/ncei/wod/1987/wod_osd_1987.nc failed.\n",
            "https://www.ncei.noaa.gov/thredds-ocean/dodsC/ncei/wod/1988/wod_osd_1988.nc failed.\n",
            "https://www.ncei.noaa.gov/thredds-ocean/dodsC/ncei/wod/1989/wod_osd_1989.nc failed.\n",
            "https://www.ncei.noaa.gov/thredds-ocean/dodsC/ncei/wod/1990/wod_osd_1990.nc failed.\n",
            "https://www.ncei.noaa.gov/thredds-ocean/dodsC/ncei/wod/1991/wod_osd_1991.nc failed.\n",
            "https://www.ncei.noaa.gov/thredds-ocean/dodsC/ncei/wod/1992/wod_osd_1992.nc failed.\n",
            "https://www.ncei.noaa.gov/thredds-ocean/dodsC/ncei/wod/1993/wod_osd_1993.nc failed.\n",
            "https://www.ncei.noaa.gov/thredds-ocean/dodsC/ncei/wod/1994/wod_osd_1994.nc failed.\n",
            "https://www.ncei.noaa.gov/thredds-ocean/dodsC/ncei/wod/1995/wod_osd_1995.nc failed.\n",
            "https://www.ncei.noaa.gov/thredds-ocean/dodsC/ncei/wod/1996/wod_osd_1996.nc failed.\n",
            "https://www.ncei.noaa.gov/thredds-ocean/dodsC/ncei/wod/1997/wod_osd_1997.nc failed.\n",
            "https://www.ncei.noaa.gov/thredds-ocean/dodsC/ncei/wod/1998/wod_osd_1998.nc failed.\n",
            "https://www.ncei.noaa.gov/thredds-ocean/dodsC/ncei/wod/1999/wod_osd_1999.nc failed.\n",
            "https://www.ncei.noaa.gov/thredds-ocean/dodsC/ncei/wod/2000/wod_osd_2000.nc failed.\n",
            "https://www.ncei.noaa.gov/thredds-ocean/dodsC/ncei/wod/2001/wod_osd_2001.nc failed.\n",
            "https://www.ncei.noaa.gov/thredds-ocean/dodsC/ncei/wod/2002/wod_osd_2002.nc failed.\n",
            "https://www.ncei.noaa.gov/thredds-ocean/dodsC/ncei/wod/2003/wod_osd_2003.nc failed.\n",
            "https://www.ncei.noaa.gov/thredds-ocean/dodsC/ncei/wod/2004/wod_osd_2004.nc failed.\n",
            "https://www.ncei.noaa.gov/thredds-ocean/dodsC/ncei/wod/2005/wod_osd_2005.nc failed.\n",
            "https://www.ncei.noaa.gov/thredds-ocean/dodsC/ncei/wod/2006/wod_osd_2006.nc failed.\n",
            "https://www.ncei.noaa.gov/thredds-ocean/dodsC/ncei/wod/2007/wod_osd_2007.nc failed.\n",
            "https://www.ncei.noaa.gov/thredds-ocean/dodsC/ncei/wod/2008/wod_osd_2008.nc failed.\n",
            "https://www.ncei.noaa.gov/thredds-ocean/dodsC/ncei/wod/2009/wod_osd_2009.nc failed.\n",
            "https://www.ncei.noaa.gov/thredds-ocean/dodsC/ncei/wod/2010/wod_osd_2010.nc failed.\n",
            "https://www.ncei.noaa.gov/thredds-ocean/dodsC/ncei/wod/2011/wod_osd_2011.nc failed.\n",
            "https://www.ncei.noaa.gov/thredds-ocean/dodsC/ncei/wod/2012/wod_osd_2012.nc failed.\n",
            "https://www.ncei.noaa.gov/thredds-ocean/dodsC/ncei/wod/2013/wod_osd_2013.nc failed.\n",
            "https://www.ncei.noaa.gov/thredds-ocean/dodsC/ncei/wod/2014/wod_osd_2014.nc failed.\n",
            "https://www.ncei.noaa.gov/thredds-ocean/dodsC/ncei/wod/2015/wod_osd_2015.nc failed.\n",
            "https://www.ncei.noaa.gov/thredds-ocean/dodsC/ncei/wod/2016/wod_osd_2016.nc failed.\n",
            "https://www.ncei.noaa.gov/thredds-ocean/dodsC/ncei/wod/2017/wod_osd_2017.nc failed.\n",
            "https://www.ncei.noaa.gov/thredds-ocean/dodsC/ncei/wod/2018/wod_osd_2018.nc failed.\n",
            "https://www.ncei.noaa.gov/thredds-ocean/dodsC/ncei/wod/2019/wod_osd_2019.nc failed.\n",
            "https://www.ncei.noaa.gov/thredds-ocean/dodsC/ncei/wod/2020/wod_osd_2020.nc failed.\n",
            "https://www.ncei.noaa.gov/thredds-ocean/dodsC/ncei/wod/2021/wod_osd_2021.nc failed.\n",
            "https://www.ncei.noaa.gov/thredds-ocean/dodsC/ncei/wod/2022/wod_osd_2022.nc failed.\n",
            "https://www.ncei.noaa.gov/thredds-ocean/dodsC/ncei/wod/2023/wod_osd_2023.nc failed.\n"
          ]
        },
        {
          "output_type": "error",
          "ename": "NameError",
          "evalue": "ignored",
          "traceback": [
            "\u001b[0;31m---------------------------------------------------------------------------\u001b[0m",
            "\u001b[0;31mNameError\u001b[0m                                 Traceback (most recent call last)",
            "\u001b[0;32m<ipython-input-15-5fd04fdfe606>\u001b[0m in \u001b[0;36m<cell line: 15>\u001b[0;34m()\u001b[0m\n\u001b[1;32m     13\u001b[0m   \u001b[0mcasts\u001b[0m \u001b[0;34m=\u001b[0m \u001b[0mpd\u001b[0m\u001b[0;34m.\u001b[0m\u001b[0mconcat\u001b[0m\u001b[0;34m(\u001b[0m\u001b[0;34m[\u001b[0m\u001b[0mcasts\u001b[0m\u001b[0;34m,\u001b[0m \u001b[0mdata\u001b[0m\u001b[0;34m]\u001b[0m\u001b[0;34m,\u001b[0m \u001b[0mignore_index\u001b[0m\u001b[0;34m=\u001b[0m\u001b[0;32mTrue\u001b[0m\u001b[0;34m)\u001b[0m\u001b[0;34m\u001b[0m\u001b[0;34m\u001b[0m\u001b[0m\n\u001b[1;32m     14\u001b[0m \u001b[0;34m\u001b[0m\u001b[0m\n\u001b[0;32m---> 15\u001b[0;31m \u001b[0mcasts\u001b[0m\u001b[0;34m\u001b[0m\u001b[0;34m\u001b[0m\u001b[0m\n\u001b[0m",
            "\u001b[0;31mNameError\u001b[0m: name 'casts' is not defined"
          ]
        }
      ]
    },
    {
      "cell_type": "code",
      "source": [],
      "metadata": {
        "id": "uu7Hkm84qaKd"
      },
      "execution_count": null,
      "outputs": []
    }
  ]
}