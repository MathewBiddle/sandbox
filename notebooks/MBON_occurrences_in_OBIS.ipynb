{
  "nbformat": 4,
  "nbformat_minor": 0,
  "metadata": {
    "colab": {
      "name": "MBON_occurrences_in_OBIS.ipynb",
      "provenance": [],
      "authorship_tag": "ABX9TyOxiw7SaRhM506lhi4mmJ6O",
      "include_colab_link": true
    },
    "kernelspec": {
      "name": "python3",
      "display_name": "Python 3"
    },
    "language_info": {
      "name": "python"
    }
  },
  "cells": [
    {
      "cell_type": "markdown",
      "metadata": {
        "id": "view-in-github",
        "colab_type": "text"
      },
      "source": [
        "<a href=\"https://colab.research.google.com/github/MathewBiddle/sandbox/blob/main/notebooks/MBON_occurrences_in_OBIS.ipynb\" target=\"_parent\"><img src=\"https://colab.research.google.com/assets/colab-badge.svg\" alt=\"Open In Colab\"/></a>"
      ]
    },
    {
      "cell_type": "code",
      "execution_count": null,
      "metadata": {
        "id": "X6K60BkqZiFQ"
      },
      "outputs": [],
      "source": [
        "#@title\n",
        "import gspread\n",
        "import matplotlib.pyplot as plt\n",
        "import numpy as np\n",
        "import os\n",
        "import pandas as pd\n",
        "import sys\n",
        "import sklearn as skl\n",
        "\n",
        "## For google spreadsheet reading you need to authenticate w/ google\n",
        "from google.colab import auth\n",
        "auth.authenticate_user()\n",
        "\n",
        "\n",
        "from google.auth import default\n",
        "creds, _ = default()\n"
      ]
    },
    {
      "cell_type": "code",
      "source": [
        "mbon_reg_url = 'https://docs.google.com/spreadsheets/d/1jBS8ASS27yV8APZ8Fh-tgX6dHdopwianrUZv0kbKcxw/edit#gid=1284796732'\n",
        "\n",
        "gc = gspread.authorize(creds)\n",
        "worksheet = gc.open_by_url(mbon_reg_url)\n",
        "responses = worksheet.worksheet('Form Responses 1')\n",
        "\n",
        "df = pd.DataFrame(responses.get_all_records())"
      ],
      "metadata": {
        "id": "-DoJvH2QZ0qE"
      },
      "execution_count": null,
      "outputs": []
    },
    {
      "cell_type": "code",
      "source": [
        "for dataset in df.loc[df['Has the dataset been submitted to OBIS?']=='Yes','If yes to above, please include appropriate OBIS link(s) here.']:\n",
        "  print(dataset.split(\"/\")[-1])"
      ],
      "metadata": {
        "colab": {
          "base_uri": "https://localhost:8080/"
        },
        "id": "UeGsDh30aCgC",
        "outputId": "8edc1446-9ef0-42fc-ca63-e53ad224445a"
      },
      "execution_count": null,
      "outputs": [
        {
          "output_type": "stream",
          "name": "stdout",
          "text": [
            "d32266b4-d98d-4eed-8207-57dff1f14cc4\n",
            "ab06f0c6-3de3-447a-b339-a8517f2c95ed\n",
            "cfceb150-bbe2-4efb-8682-14cfc7167e7c\n",
            "afef5da2-614b-4208-aee6-c2413ed5ab76\n",
            "62b97724-da17-4ca7-9b26-b2a22aeaab51\n",
            "fbf4cb59-cef3-43be-b0ab-0dbab5f51740\n"
          ]
        }
      ]
    },
    {
      "cell_type": "code",
      "source": [
        "import json\n",
        "from urllib.request import urlopen\n",
        "import urllib.parse\n",
        "\n",
        "base = 'https://api.obis.org/v3/occurrence'\n",
        "\n",
        "cumulative_size = 0\n",
        "\n",
        "for dataset in df.loc[df['Has the dataset been submitted to OBIS?']=='Yes','If yes to above, please include appropriate OBIS link(s) here.']:\n",
        "\n",
        "  datasetid = dataset.split(\"/\")[-1]\n",
        "  url = '{}?datasetid={}'.format(base,datasetid)\n",
        "\n",
        "#url = https://api.obis.org/v3/occurrence?datasetid=ab06f0c6-3de3-447a-b339-a8517f2c95ed\n",
        "\n",
        "  response= urlopen(url)\n",
        "\n",
        "  data_json = json.loads(response.read())\n",
        "\n",
        "  data = pd.DataFrame(data_json['results'])\n",
        "\n",
        "  size = data_json['total']\n",
        "\n",
        "  cumulative_size = cumulative_size + size\n",
        "\n",
        "  #combined = pd.concat([combined, data],ignore_index=True)\n",
        "\n",
        "  print(\"Found %i records.\" % size)\n",
        "  print(\"See in mapper at: %s\" % '{}{}#'.format('https://mapper.obis.org/?datasetid=',datasetid))\n",
        "\n",
        "print(\"Found %i total occurrences.\" % cumulative_size )"
      ],
      "metadata": {
        "colab": {
          "base_uri": "https://localhost:8080/"
        },
        "id": "rh3S02EHbKQC",
        "outputId": "c4c2410e-d813-4b67-cc31-b7617ad52447"
      },
      "execution_count": null,
      "outputs": [
        {
          "output_type": "stream",
          "name": "stdout",
          "text": [
            "Found 4511 records.\n",
            "See in mapper at: https://mapper.obis.org/?datasetid=d32266b4-d98d-4eed-8207-57dff1f14cc4#\n",
            "Found 4840 records.\n",
            "See in mapper at: https://mapper.obis.org/?datasetid=ab06f0c6-3de3-447a-b339-a8517f2c95ed#\n",
            "Found 237709 records.\n",
            "See in mapper at: https://mapper.obis.org/?datasetid=cfceb150-bbe2-4efb-8682-14cfc7167e7c#\n",
            "Found 1320 records.\n",
            "See in mapper at: https://mapper.obis.org/?datasetid=afef5da2-614b-4208-aee6-c2413ed5ab76#\n",
            "Found 64841 records.\n",
            "See in mapper at: https://mapper.obis.org/?datasetid=62b97724-da17-4ca7-9b26-b2a22aeaab51#\n",
            "Found 53306 records.\n",
            "See in mapper at: https://mapper.obis.org/?datasetid=fbf4cb59-cef3-43be-b0ab-0dbab5f51740#\n",
            "Found 366527 total occurrences.\n"
          ]
        }
      ]
    },
    {
      "cell_type": "code",
      "source": [
        "4511 + 4840 + 237709 + 1320 + 64841 + 53306"
      ],
      "metadata": {
        "colab": {
          "base_uri": "https://localhost:8080/"
        },
        "id": "7wl6PQA6cVYT",
        "outputId": "de171de5-2aa0-4f2b-ae0c-c9e06d51bd4b"
      },
      "execution_count": null,
      "outputs": [
        {
          "output_type": "execute_result",
          "data": {
            "text/plain": [
              "366527"
            ]
          },
          "metadata": {},
          "execution_count": 5
        }
      ]
    },
    {
      "cell_type": "code",
      "source": [
        "base = 'https://api.obis.org/v3/'\n",
        "\n",
        "\n",
        "combined_data = pd.DataFrame()\n",
        "\n",
        "# build a list of the subset of fields you want back\n",
        "fields = ['dataset_id','datasetID','id','decimalLatitude','decimalLongitude','species','aphiaID','date_year']\n",
        "#fields = ['dataset_id','id']\n",
        "\n",
        "f = \"%2C\".join([f\"{v}\" for v in fields])\n",
        "\n",
        "datasets = df.loc[df['Has the dataset been submitted to OBIS?']=='Yes','If yes to above, please include appropriate OBIS link(s) here.']\n",
        "\n",
        "for dataset in datasets:\n",
        "  dataset_data = pd.DataFrame() # initialize df\n",
        "  datasetid = dataset.split(\"/\")[-1]\n",
        "  print(\"Dataset ID:\",datasetid)\n",
        "  url = 'https://api.obis.org/v3/occurrence?datasetid={}'.format(datasetid)\n",
        "  print(url)\n",
        "  response = urlopen(url)\n",
        "  data_json = json.loads(response.read())\n",
        "  size = data_json['total']\n",
        "\n",
        "  for i in range(10000,size,10000):\n",
        "      if i == 10000:\n",
        "          # build url for first call\n",
        "          occurrence_id = 'occurrence?datasetid={}&fields={}&size=10000'.format(datasetid,f)\n",
        "      elif i > 10000:\n",
        "          # build url for remaining calls\n",
        "          uuid = dataset_data.iloc[-1]['id']\n",
        "          occurrence_id = 'occurrence?dataset_id={}&fields={}&after={}&size=10000'.format(datasetid,f,uuid)\n",
        "        \n",
        "      url = '{}{}'.format(base,occurrence_id)\n",
        "      # open the api call\n",
        "      response = urlopen(url) \n",
        "      # read in the json\n",
        "      data_json = json.loads(response.read())\n",
        "      # build a mongo dataframe with all results\n",
        "      dataset_data = pd.concat([dataset_data, pd.DataFrame(data_json['results'])])\n",
        "\n",
        "      print('\\t\\tData shape:',len(data_json['results']),dataset_data.shape)\n",
        "\n",
        "      # kick out of loop at the end\n",
        "      if len(data_json['results']) < 10000:\n",
        "        print('data_json < 10000:', len(data_json['results']) )\n",
        "        break\n",
        "\n",
        "  # Need to grab from last iteration to expected size.\n",
        "  uuid = dataset_data.iloc[-1]['id']\n",
        "  occurrence_id = 'occurrence?datasetid={}&fields={}&after={}&size=10000'.format(datasetid,f,uuid)\n",
        "  url = '{}{}'.format(base,occurrence_id)\n",
        "  response= urlopen(url)\n",
        "  data_json = json.loads(response.read())\n",
        "  dataset_data = pd.concat([dataset_data, pd.DataFrame(data_json['results'])],ignore_index=True)\n",
        "  print('\\t\\tData shape:',len(data_json['results']),dataset_data.shape) \n",
        "\n",
        "  combined_data = pd.concat([combined_data, dataset_data],ignore_index=True)\n",
        "\n",
        "print('Final shape:',combined_data.shape)\n"
      ],
      "metadata": {
        "colab": {
          "base_uri": "https://localhost:8080/",
          "height": 414
        },
        "id": "gOdLy06hftV_",
        "outputId": "a41e4476-f554-45cd-f4aa-a399ae6d2b86"
      },
      "execution_count": null,
      "outputs": [
        {
          "output_type": "stream",
          "name": "stdout",
          "text": [
            "Dataset ID: d32266b4-d98d-4eed-8207-57dff1f14cc4\n",
            "https://api.obis.org/v3/occurrence?datasetid=d32266b4-d98d-4eed-8207-57dff1f14cc4\n"
          ]
        },
        {
          "output_type": "error",
          "ename": "IndexError",
          "evalue": "ignored",
          "traceback": [
            "\u001b[0;31m---------------------------------------------------------------------------\u001b[0m",
            "\u001b[0;31mIndexError\u001b[0m                                Traceback (most recent call last)",
            "\u001b[0;32m<ipython-input-9-e06dfb28517a>\u001b[0m in \u001b[0;36m<module>\u001b[0;34m()\u001b[0m\n\u001b[1;32m     47\u001b[0m \u001b[0;34m\u001b[0m\u001b[0m\n\u001b[1;32m     48\u001b[0m   \u001b[0;31m# Need to grab from last iteration to expected size.\u001b[0m\u001b[0;34m\u001b[0m\u001b[0;34m\u001b[0m\u001b[0;34m\u001b[0m\u001b[0m\n\u001b[0;32m---> 49\u001b[0;31m   \u001b[0muuid\u001b[0m \u001b[0;34m=\u001b[0m \u001b[0mdataset_data\u001b[0m\u001b[0;34m.\u001b[0m\u001b[0miloc\u001b[0m\u001b[0;34m[\u001b[0m\u001b[0;34m-\u001b[0m\u001b[0;36m1\u001b[0m\u001b[0;34m]\u001b[0m\u001b[0;34m[\u001b[0m\u001b[0;34m'id'\u001b[0m\u001b[0;34m]\u001b[0m\u001b[0;34m\u001b[0m\u001b[0;34m\u001b[0m\u001b[0m\n\u001b[0m\u001b[1;32m     50\u001b[0m   \u001b[0moccurrence_id\u001b[0m \u001b[0;34m=\u001b[0m \u001b[0;34m'occurrence?datasetid={}&fields={}&after={}&size=10000'\u001b[0m\u001b[0;34m.\u001b[0m\u001b[0mformat\u001b[0m\u001b[0;34m(\u001b[0m\u001b[0mdatasetid\u001b[0m\u001b[0;34m,\u001b[0m\u001b[0mf\u001b[0m\u001b[0;34m,\u001b[0m\u001b[0muuid\u001b[0m\u001b[0;34m)\u001b[0m\u001b[0;34m\u001b[0m\u001b[0;34m\u001b[0m\u001b[0m\n\u001b[1;32m     51\u001b[0m   \u001b[0murl\u001b[0m \u001b[0;34m=\u001b[0m \u001b[0;34m'{}{}'\u001b[0m\u001b[0;34m.\u001b[0m\u001b[0mformat\u001b[0m\u001b[0;34m(\u001b[0m\u001b[0mbase\u001b[0m\u001b[0;34m,\u001b[0m\u001b[0moccurrence_id\u001b[0m\u001b[0;34m)\u001b[0m\u001b[0;34m\u001b[0m\u001b[0;34m\u001b[0m\u001b[0m\n",
            "\u001b[0;32m/usr/local/lib/python3.7/dist-packages/pandas/core/indexing.py\u001b[0m in \u001b[0;36m__getitem__\u001b[0;34m(self, key)\u001b[0m\n\u001b[1;32m    929\u001b[0m \u001b[0;34m\u001b[0m\u001b[0m\n\u001b[1;32m    930\u001b[0m             \u001b[0mmaybe_callable\u001b[0m \u001b[0;34m=\u001b[0m \u001b[0mcom\u001b[0m\u001b[0;34m.\u001b[0m\u001b[0mapply_if_callable\u001b[0m\u001b[0;34m(\u001b[0m\u001b[0mkey\u001b[0m\u001b[0;34m,\u001b[0m \u001b[0mself\u001b[0m\u001b[0;34m.\u001b[0m\u001b[0mobj\u001b[0m\u001b[0;34m)\u001b[0m\u001b[0;34m\u001b[0m\u001b[0;34m\u001b[0m\u001b[0m\n\u001b[0;32m--> 931\u001b[0;31m             \u001b[0;32mreturn\u001b[0m \u001b[0mself\u001b[0m\u001b[0;34m.\u001b[0m\u001b[0m_getitem_axis\u001b[0m\u001b[0;34m(\u001b[0m\u001b[0mmaybe_callable\u001b[0m\u001b[0;34m,\u001b[0m \u001b[0maxis\u001b[0m\u001b[0;34m=\u001b[0m\u001b[0maxis\u001b[0m\u001b[0;34m)\u001b[0m\u001b[0;34m\u001b[0m\u001b[0;34m\u001b[0m\u001b[0m\n\u001b[0m\u001b[1;32m    932\u001b[0m \u001b[0;34m\u001b[0m\u001b[0m\n\u001b[1;32m    933\u001b[0m     \u001b[0;32mdef\u001b[0m \u001b[0m_is_scalar_access\u001b[0m\u001b[0;34m(\u001b[0m\u001b[0mself\u001b[0m\u001b[0;34m,\u001b[0m \u001b[0mkey\u001b[0m\u001b[0;34m:\u001b[0m \u001b[0mtuple\u001b[0m\u001b[0;34m)\u001b[0m\u001b[0;34m:\u001b[0m\u001b[0;34m\u001b[0m\u001b[0;34m\u001b[0m\u001b[0m\n",
            "\u001b[0;32m/usr/local/lib/python3.7/dist-packages/pandas/core/indexing.py\u001b[0m in \u001b[0;36m_getitem_axis\u001b[0;34m(self, key, axis)\u001b[0m\n\u001b[1;32m   1564\u001b[0m \u001b[0;34m\u001b[0m\u001b[0m\n\u001b[1;32m   1565\u001b[0m             \u001b[0;31m# validate the location\u001b[0m\u001b[0;34m\u001b[0m\u001b[0;34m\u001b[0m\u001b[0;34m\u001b[0m\u001b[0m\n\u001b[0;32m-> 1566\u001b[0;31m             \u001b[0mself\u001b[0m\u001b[0;34m.\u001b[0m\u001b[0m_validate_integer\u001b[0m\u001b[0;34m(\u001b[0m\u001b[0mkey\u001b[0m\u001b[0;34m,\u001b[0m \u001b[0maxis\u001b[0m\u001b[0;34m)\u001b[0m\u001b[0;34m\u001b[0m\u001b[0;34m\u001b[0m\u001b[0m\n\u001b[0m\u001b[1;32m   1567\u001b[0m \u001b[0;34m\u001b[0m\u001b[0m\n\u001b[1;32m   1568\u001b[0m             \u001b[0;32mreturn\u001b[0m \u001b[0mself\u001b[0m\u001b[0;34m.\u001b[0m\u001b[0mobj\u001b[0m\u001b[0;34m.\u001b[0m\u001b[0m_ixs\u001b[0m\u001b[0;34m(\u001b[0m\u001b[0mkey\u001b[0m\u001b[0;34m,\u001b[0m \u001b[0maxis\u001b[0m\u001b[0;34m=\u001b[0m\u001b[0maxis\u001b[0m\u001b[0;34m)\u001b[0m\u001b[0;34m\u001b[0m\u001b[0;34m\u001b[0m\u001b[0m\n",
            "\u001b[0;32m/usr/local/lib/python3.7/dist-packages/pandas/core/indexing.py\u001b[0m in \u001b[0;36m_validate_integer\u001b[0;34m(self, key, axis)\u001b[0m\n\u001b[1;32m   1498\u001b[0m         \u001b[0mlen_axis\u001b[0m \u001b[0;34m=\u001b[0m \u001b[0mlen\u001b[0m\u001b[0;34m(\u001b[0m\u001b[0mself\u001b[0m\u001b[0;34m.\u001b[0m\u001b[0mobj\u001b[0m\u001b[0;34m.\u001b[0m\u001b[0m_get_axis\u001b[0m\u001b[0;34m(\u001b[0m\u001b[0maxis\u001b[0m\u001b[0;34m)\u001b[0m\u001b[0;34m)\u001b[0m\u001b[0;34m\u001b[0m\u001b[0;34m\u001b[0m\u001b[0m\n\u001b[1;32m   1499\u001b[0m         \u001b[0;32mif\u001b[0m \u001b[0mkey\u001b[0m \u001b[0;34m>=\u001b[0m \u001b[0mlen_axis\u001b[0m \u001b[0;32mor\u001b[0m \u001b[0mkey\u001b[0m \u001b[0;34m<\u001b[0m \u001b[0;34m-\u001b[0m\u001b[0mlen_axis\u001b[0m\u001b[0;34m:\u001b[0m\u001b[0;34m\u001b[0m\u001b[0;34m\u001b[0m\u001b[0m\n\u001b[0;32m-> 1500\u001b[0;31m             \u001b[0;32mraise\u001b[0m \u001b[0mIndexError\u001b[0m\u001b[0;34m(\u001b[0m\u001b[0;34m\"single positional indexer is out-of-bounds\"\u001b[0m\u001b[0;34m)\u001b[0m\u001b[0;34m\u001b[0m\u001b[0;34m\u001b[0m\u001b[0m\n\u001b[0m\u001b[1;32m   1501\u001b[0m \u001b[0;34m\u001b[0m\u001b[0m\n\u001b[1;32m   1502\u001b[0m     \u001b[0;31m# -------------------------------------------------------------------\u001b[0m\u001b[0;34m\u001b[0m\u001b[0;34m\u001b[0m\u001b[0;34m\u001b[0m\u001b[0m\n",
            "\u001b[0;31mIndexError\u001b[0m: single positional indexer is out-of-bounds"
          ]
        }
      ]
    },
    {
      "cell_type": "code",
      "source": [
        "df.loc[df['Has the dataset been submitted to OBIS?']=='Yes','If yes to above, please include appropriate OBIS link(s) here.'][2].split(\"/\")[-1]"
      ],
      "metadata": {
        "id": "IrSeUp9XqXJp"
      },
      "execution_count": null,
      "outputs": []
    },
    {
      "cell_type": "code",
      "source": [
        "size"
      ],
      "metadata": {
        "colab": {
          "base_uri": "https://localhost:8080/"
        },
        "id": "7sp9dx2GqdSB",
        "outputId": "24f42e56-0af6-413a-923e-738532984051"
      },
      "execution_count": null,
      "outputs": [
        {
          "output_type": "execute_result",
          "data": {
            "text/plain": [
              "4511"
            ]
          },
          "metadata": {},
          "execution_count": 11
        }
      ]
    },
    {
      "cell_type": "code",
      "source": [
        ""
      ],
      "metadata": {
        "id": "t14n-AL128uG"
      },
      "execution_count": null,
      "outputs": []
    }
  ]
}