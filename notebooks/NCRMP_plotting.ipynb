{
 "cells": [
  {
   "cell_type": "markdown",
   "id": "eb89d26a",
   "metadata": {},
   "source": [
    "# National Coral Reef Monitoring Project shapefile to geojson\n",
    "\n",
    "This notebook attempts to accomplish the following activities:\n",
    "\n",
    " - [ ] Convert shapefiles to geojson\n",
    " - [ ] Create a combined geojson from multiple shapefiles\n",
    " - [ ] Use different plotting techniques to look at the data"
   ]
  },
  {
   "cell_type": "markdown",
   "id": "64f9f024",
   "metadata": {},
   "source": [
    "## First lets make some functions to make our lives easier"
   ]
  },
  {
   "cell_type": "code",
   "execution_count": null,
   "id": "c51ef7b7",
   "metadata": {},
   "outputs": [],
   "source": [
    "import geopandas as gpd\n",
    "import pandas as pd\n",
    "\n",
    "def shape2geojson(infile: str):\n",
    "    try:\n",
    "        infile.split(\".\")[-1] != 'shp'\n",
    "\n",
    "    except:\n",
    "        return (\"Incorrect input file!\\n%s is not a shapefile.\" % infile)\n",
    "\n",
    "    else:\n",
    "        try:\n",
    "            open(infile, 'r')\n",
    "\n",
    "        except FileNotFoundError:\n",
    "            return (\"File %s not found!\" % infile)\n",
    "\n",
    "        else:\n",
    "            shpfile = gpd.read_file( infile ).to_crs( \"EPSG:4326\" )\n",
    "            outfile = infile.replace( '.shp', '.geojson' )\n",
    "            shpfile.to_file( outfile, driver='GeoJSON' )\n",
    "\n",
    "            return True\n",
    "        \n",
    "        \n",
    "def multishape2geojson(shapefiles: list, outfile: str):\n",
    "\n",
    "    gdf = pd.concat([\n",
    "                    gpd.read_file(shp).to_crs(\"EPSG:4326\")\n",
    "                    for shp in shapefiles\n",
    "                    ]).pipe(gpd.GeoDataFrame)\n",
    "\n",
    "    gdf['geometry'].to_file(outfile, driver='GeoJSON')\n"
   ]
  },
  {
   "cell_type": "markdown",
   "id": "1898b3e1",
   "metadata": {},
   "source": [
    "## convert shapefiles to geoJSON"
   ]
  },
  {
   "cell_type": "code",
   "execution_count": null,
   "id": "66e9d62d",
   "metadata": {},
   "outputs": [],
   "source": [
    "# import glob\n",
    "\n",
    "# shapefiles = glob.glob('./NCRMP/**/*.shp', recursive=True)\n",
    "\n",
    "# A bunch of individual files\n",
    "# for shapefile in shapefiles:\n",
    "#     shape2geojson(shapefile)\n",
    "\n",
    "# One large file\n",
    "# multishape2geojson(shapefiles, 'NCRMP_combined_geometry.geojson')"
   ]
  },
  {
   "cell_type": "markdown",
   "id": "29408dd0",
   "metadata": {},
   "source": [
    "## Read geojson and make simple plot"
   ]
  },
  {
   "cell_type": "code",
   "execution_count": null,
   "id": "28ae906f",
   "metadata": {},
   "outputs": [],
   "source": [
    "import geopandas as gpd\n",
    "\n",
    "gdf = gpd.read_file('../NCRMP/NCRMP_combined_geometry.geojson')\n",
    "gdf.plot( figsize=(200, 200) )"
   ]
  },
  {
   "cell_type": "markdown",
   "id": "a55c40f9",
   "metadata": {},
   "source": [
    "## Add geoJSON files to interactive map"
   ]
  },
  {
   "cell_type": "code",
   "execution_count": null,
   "id": "57113f34",
   "metadata": {},
   "outputs": [],
   "source": [
    "import geopandas as gps\n",
    "import pandas as pd\n",
    "import glob\n",
    "\n",
    "gjsons = glob.glob('../NCRMP/**/*.geojson', recursive=True)\n",
    "gjsons"
   ]
  },
  {
   "cell_type": "code",
   "execution_count": null,
   "id": "2f0aa797",
   "metadata": {},
   "outputs": [],
   "source": [
    "import folium\n",
    "\n",
    "m = folium.Map(\n",
    "    location=[0, 0],\n",
    "    #tiles=\"cartodbpositron\",\n",
    "    zoom_start=2,\n",
    ")\n",
    "\n",
    "for gjson in gjsons:\n",
    "    if \"NCRMP_combined\" not in gjson:\n",
    "        \n",
    "        name = gjson.split(\"\\\\\")[-1].split(\".\")[0]\n",
    "        \n",
    "        folium.GeoJson(gjson, name=name ).add_to(m)\n",
    "        \n",
    "folium.LayerControl().add_to(m)\n",
    "\n",
    "m"
   ]
  },
  {
   "cell_type": "code",
   "execution_count": null,
   "id": "b76bbea1",
   "metadata": {},
   "outputs": [],
   "source": []
  }
 ],
 "metadata": {
  "kernelspec": {
   "display_name": "Python 3 (ipykernel)",
   "language": "python",
   "name": "python3"
  },
  "language_info": {
   "codemirror_mode": {
    "name": "ipython",
    "version": 3
   },
   "file_extension": ".py",
   "mimetype": "text/x-python",
   "name": "python",
   "nbconvert_exporter": "python",
   "pygments_lexer": "ipython3",
   "version": "3.8.10"
  }
 },
 "nbformat": 4,
 "nbformat_minor": 5
}
