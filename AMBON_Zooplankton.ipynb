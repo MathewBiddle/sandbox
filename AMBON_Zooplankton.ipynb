{
 "cells": [
  {
   "cell_type": "code",
   "execution_count": null,
   "id": "prepared-cornell",
   "metadata": {},
   "outputs": [],
   "source": [
    "import pandas as pd"
   ]
  },
  {
   "cell_type": "code",
   "execution_count": null,
   "id": "blind-upset",
   "metadata": {},
   "outputs": [],
   "source": [
    "occurrence_files = ['./AMBON/AMBON2015_zooplankton/AMBON2015_zooplankton_Occurrence_DWC.csv',\n",
    "                   './AMBON/AMBON2017_zooplankton/AMBON2017_zooplankton_Occurrence_DWC.csv']\n",
    "\n",
    "for file in occurrence_files:\n",
    "    df = pd.read_csv(file)\n",
    "    print(\"File:%s\\n%s\\n\"%(file,df['lifeStage'].unique()))\n",
    "    df.drop(columns='Unnamed: 0',inplace=True)\n",
    "    \n",
    "    # find where lifeStage is either 'male' or 'female' and return that to another column called 'sex'\n",
    "    df['sex'] = df.loc[ (df['lifeStage'] == 'male') | (df['lifeStage'] == 'female'), ['lifeStage'] ]\n",
    "    df.loc[ (df['lifeStage'] == 'male'), ['lifeStage']] = ''\n",
    "    df.loc[ (df['lifeStage'] == 'female'), ['lifeStage']] = ''\n",
    "    \n",
    "    fname = file.replace('_DWC','_DWC_mb')\n",
    "    df.to_csv(fname, index=False)"
   ]
  },
  {
   "cell_type": "code",
   "execution_count": null,
   "id": "crucial-donna",
   "metadata": {},
   "outputs": [],
   "source": []
  },
  {
   "cell_type": "code",
   "execution_count": null,
   "id": "pressing-allowance",
   "metadata": {},
   "outputs": [],
   "source": []
  },
  {
   "cell_type": "code",
   "execution_count": null,
   "id": "induced-strike",
   "metadata": {},
   "outputs": [],
   "source": []
  },
  {
   "cell_type": "code",
   "execution_count": null,
   "id": "acceptable-burlington",
   "metadata": {},
   "outputs": [],
   "source": []
  },
  {
   "cell_type": "code",
   "execution_count": null,
   "id": "stone-crowd",
   "metadata": {},
   "outputs": [],
   "source": []
  }
 ],
 "metadata": {
  "kernelspec": {
   "display_name": "Python 3",
   "language": "python",
   "name": "python3"
  },
  "language_info": {
   "codemirror_mode": {
    "name": "ipython",
    "version": 3
   },
   "file_extension": ".py",
   "mimetype": "text/x-python",
   "name": "python",
   "nbconvert_exporter": "python",
   "pygments_lexer": "ipython3",
   "version": "3.8.6"
  }
 },
 "nbformat": 4,
 "nbformat_minor": 5
}
