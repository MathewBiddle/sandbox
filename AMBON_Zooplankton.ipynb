{
 "cells": [
  {
   "cell_type": "code",
   "execution_count": 1,
   "id": "plastic-carolina",
   "metadata": {},
   "outputs": [],
   "source": [
    "import pandas as pd"
   ]
  },
  {
   "cell_type": "code",
   "execution_count": 29,
   "id": "changing-employee",
   "metadata": {},
   "outputs": [
    {
     "name": "stdout",
     "output_type": "stream",
     "text": [
      "File:./AMBON/AMBON2015_zooplankton/AMBON2015_zooplankton_Occurrence_DWC.csv\n",
      "[' ' 'nauplii' 'cyphonautes' 'larvae' 'juvenile' 'megalopa' 'zoea' 'male'\n",
      " 'bipinnaria' 'cyprid' 'furcilia' 'calytopsis' 'copepodite' 'female'\n",
      " 'large']\n",
      "\n",
      "File:./AMBON/AMBON2017_zooplankton/AMBON2017_zooplankton_Occurrence_DWC.csv\n",
      "['larvae' ' ' 'male' 'nauplii' 'cyprid' 'bipinnaria' 'cyphonautes'\n",
      " 'calytopsis' 'zoea' 'furcilia' 'juvenile' 'megalopa' 'eudoxid' '0']\n",
      "\n"
     ]
    }
   ],
   "source": [
    "occurrence_files = ['./AMBON/AMBON2015_zooplankton/AMBON2015_zooplankton_Occurrence_DWC.csv',\n",
    "                   './AMBON/AMBON2017_zooplankton/AMBON2017_zooplankton_Occurrence_DWC.csv']\n",
    "\n",
    "for file in occurrence_files:\n",
    "    df = pd.read_csv(file)\n",
    "    print(\"File:%s\\n%s\\n\"%(file,df['lifeStage'].unique()))\n",
    "    \n",
    "    df['sex'] = df.loc[ (df['lifeStage'] == 'male') | (df['lifeStage'] == 'female') ]['lifeStage']\n",
    "    fname = file.replace('_DWC','_DWC_mb')\n",
    "    df.to_csv(fname)"
   ]
  },
  {
   "cell_type": "code",
   "execution_count": null,
   "id": "social-auction",
   "metadata": {},
   "outputs": [],
   "source": []
  },
  {
   "cell_type": "code",
   "execution_count": 22,
   "id": "organized-filling",
   "metadata": {},
   "outputs": [],
   "source": []
  },
  {
   "cell_type": "code",
   "execution_count": 18,
   "id": "focused-edward",
   "metadata": {},
   "outputs": [],
   "source": []
  },
  {
   "cell_type": "code",
   "execution_count": null,
   "id": "restricted-dutch",
   "metadata": {},
   "outputs": [],
   "source": []
  },
  {
   "cell_type": "code",
   "execution_count": null,
   "id": "allied-reception",
   "metadata": {},
   "outputs": [],
   "source": []
  }
 ],
 "metadata": {
  "kernelspec": {
   "display_name": "Python 3",
   "language": "python",
   "name": "python3"
  },
  "language_info": {
   "codemirror_mode": {
    "name": "ipython",
    "version": 3
   },
   "file_extension": ".py",
   "mimetype": "text/x-python",
   "name": "python",
   "nbconvert_exporter": "python",
   "pygments_lexer": "ipython3",
   "version": "3.8.6"
  }
 },
 "nbformat": 4,
 "nbformat_minor": 5
}
