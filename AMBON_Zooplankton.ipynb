{
 "cells": [
  {
   "cell_type": "code",
   "execution_count": 1,
   "id": "brilliant-pharmacy",
   "metadata": {},
   "outputs": [],
   "source": [
    "import pandas as pd"
   ]
  },
  {
   "cell_type": "code",
   "execution_count": 2,
   "id": "suffering-organizer",
   "metadata": {},
   "outputs": [],
   "source": [
    "occurrence_files = ['./AMBON/AMBON2015_zooplankton/AMBON2015_zooplankton_Occurrence_DWC.csv',\n",
    "                   './AMBON/AMBON2017_zooplankton/AMBON2017_zooplankton_Occurrence_DWC.csv']\n",
    "for file in occurrence_files:\n",
    "    df = pd.read_csv(file)\n",
    "    df['sex'] = df.loc[ (df['lifeStage'] == 'male') | (df['lifeStage'] == 'female') ]['lifeStage']\n",
    "    fname = file.replace('_DWC','_DWC_mb')\n",
    "    df.to_csv(fname)"
   ]
  },
  {
   "cell_type": "code",
   "execution_count": null,
   "id": "younger-pencil",
   "metadata": {},
   "outputs": [],
   "source": []
  },
  {
   "cell_type": "code",
   "execution_count": 22,
   "id": "southern-check",
   "metadata": {},
   "outputs": [],
   "source": []
  },
  {
   "cell_type": "code",
   "execution_count": 18,
   "id": "romance-waters",
   "metadata": {},
   "outputs": [],
   "source": []
  },
  {
   "cell_type": "code",
   "execution_count": null,
   "id": "incredible-skating",
   "metadata": {},
   "outputs": [],
   "source": []
  },
  {
   "cell_type": "code",
   "execution_count": null,
   "id": "intelligent-integral",
   "metadata": {},
   "outputs": [],
   "source": []
  }
 ],
 "metadata": {
  "kernelspec": {
   "display_name": "Python 3",
   "language": "python",
   "name": "python3"
  },
  "language_info": {
   "codemirror_mode": {
    "name": "ipython",
    "version": 3
   },
   "file_extension": ".py",
   "mimetype": "text/x-python",
   "name": "python",
   "nbconvert_exporter": "python",
   "pygments_lexer": "ipython3",
   "version": "3.8.6"
  }
 },
 "nbformat": 4,
 "nbformat_minor": 5
}
