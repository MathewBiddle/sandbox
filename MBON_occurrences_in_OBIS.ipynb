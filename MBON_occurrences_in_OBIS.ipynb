{
  "nbformat": 4,
  "nbformat_minor": 0,
  "metadata": {
    "colab": {
      "name": "MBON_occurrences_in_OBIS.ipynb",
      "provenance": [],
      "authorship_tag": "ABX9TyOHWVjBWf5cHBmM2RVxLGoM",
      "include_colab_link": true
    },
    "kernelspec": {
      "name": "python3",
      "display_name": "Python 3"
    },
    "language_info": {
      "name": "python"
    }
  },
  "cells": [
    {
      "cell_type": "markdown",
      "metadata": {
        "id": "view-in-github",
        "colab_type": "text"
      },
      "source": [
        "<a href=\"https://colab.research.google.com/github/MathewBiddle/sandbox/blob/main/MBON_occurrences_in_OBIS.ipynb\" target=\"_parent\"><img src=\"https://colab.research.google.com/assets/colab-badge.svg\" alt=\"Open In Colab\"/></a>"
      ]
    },
    {
      "cell_type": "code",
      "execution_count": 6,
      "metadata": {
        "id": "X6K60BkqZiFQ"
      },
      "outputs": [],
      "source": [
        "#@title\n",
        "import gspread\n",
        "import matplotlib.pyplot as plt\n",
        "import numpy as np\n",
        "import os\n",
        "import pandas as pd\n",
        "import sys\n",
        "import sklearn as skl\n",
        "\n",
        "## For google spreadsheet reading you need to authenticate w/ google\n",
        "from google.colab import auth\n",
        "auth.authenticate_user()\n",
        "\n",
        "\n",
        "from google.auth import default\n",
        "creds, _ = default()\n"
      ]
    },
    {
      "cell_type": "code",
      "source": [
        "mbon_reg_url = 'https://docs.google.com/spreadsheets/d/1jBS8ASS27yV8APZ8Fh-tgX6dHdopwianrUZv0kbKcxw/edit#gid=1284796732'\n",
        "\n",
        "gc = gspread.authorize(creds)\n",
        "worksheet = gc.open_by_url(mbon_reg_url)\n",
        "responses = worksheet.worksheet('Form Responses 1')\n",
        "\n",
        "df = pd.DataFrame(responses.get_all_records())"
      ],
      "metadata": {
        "id": "-DoJvH2QZ0qE"
      },
      "execution_count": 20,
      "outputs": []
    },
    {
      "cell_type": "code",
      "source": [
        "for dataset in df.loc[df['Has the dataset been submitted to OBIS?']=='Yes','If yes to above, please include appropriate OBIS link(s) here.']:\n",
        "  print(dataset.split(\"/\")[-1])"
      ],
      "metadata": {
        "colab": {
          "base_uri": "https://localhost:8080/"
        },
        "id": "UeGsDh30aCgC",
        "outputId": "62e1cd25-ef26-4789-e546-437740c4c155"
      },
      "execution_count": 29,
      "outputs": [
        {
          "output_type": "stream",
          "name": "stdout",
          "text": [
            "d32266b4-d98d-4eed-8207-57dff1f14cc4\n",
            "ab06f0c6-3de3-447a-b339-a8517f2c95ed\n",
            "cfceb150-bbe2-4efb-8682-14cfc7167e7c\n",
            "afef5da2-614b-4208-aee6-c2413ed5ab76\n",
            "62b97724-da17-4ca7-9b26-b2a22aeaab51\n",
            "fbf4cb59-cef3-43be-b0ab-0dbab5f51740\n"
          ]
        }
      ]
    },
    {
      "cell_type": "code",
      "source": [
        "import json\n",
        "from urllib.request import urlopen\n",
        "import urllib.parse\n",
        "\n",
        "base = 'https://api.obis.org/v3/occurrence'\n",
        "\n",
        "cumulative_size = 0\n",
        "\n",
        "for dataset in df.loc[df['Has the dataset been submitted to OBIS?']=='Yes','If yes to above, please include appropriate OBIS link(s) here.']:\n",
        "\n",
        "  datasetid = dataset.split(\"/\")[-1]\n",
        "  url = '{}?datasetid={}'.format(base,datasetid)\n",
        "\n",
        "#url = https://api.obis.org/v3/occurrence?datasetid=ab06f0c6-3de3-447a-b339-a8517f2c95ed\n",
        "\n",
        "  response= urlopen(url)\n",
        "\n",
        "  data_json = json.loads(response.read())\n",
        "\n",
        "  data = pd.DataFrame(data_json['results'])\n",
        "\n",
        "  size = data_json['total']\n",
        "\n",
        "  cumulative_size = cumulative_size + size\n",
        "\n",
        "  #combined = pd.concat([combined, data],ignore_index=True)\n",
        "\n",
        "  print(\"Found %i records.\" % size)\n",
        "  print(\"See in mapper at: %s\" % '{}{}#'.format('https://mapper.obis.org/?datasetid=',datasetid))\n",
        "\n",
        "print(\"Found %i total occurrences.\" % cumulative_size )"
      ],
      "metadata": {
        "colab": {
          "base_uri": "https://localhost:8080/"
        },
        "id": "rh3S02EHbKQC",
        "outputId": "86dfa68f-7eb2-4e4a-d9db-77a2aec10dc6"
      },
      "execution_count": 38,
      "outputs": [
        {
          "output_type": "stream",
          "name": "stdout",
          "text": [
            "Found 4511 records.\n",
            "See in mapper at: https://mapper.obis.org/?datasetid=d32266b4-d98d-4eed-8207-57dff1f14cc4#\n",
            "Found 4840 records.\n",
            "See in mapper at: https://mapper.obis.org/?datasetid=ab06f0c6-3de3-447a-b339-a8517f2c95ed#\n",
            "Found 237709 records.\n",
            "See in mapper at: https://mapper.obis.org/?datasetid=cfceb150-bbe2-4efb-8682-14cfc7167e7c#\n",
            "Found 1320 records.\n",
            "See in mapper at: https://mapper.obis.org/?datasetid=afef5da2-614b-4208-aee6-c2413ed5ab76#\n",
            "Found 64841 records.\n",
            "See in mapper at: https://mapper.obis.org/?datasetid=62b97724-da17-4ca7-9b26-b2a22aeaab51#\n",
            "Found 53306 records.\n",
            "See in mapper at: https://mapper.obis.org/?datasetid=fbf4cb59-cef3-43be-b0ab-0dbab5f51740#\n",
            "Found 366527 total occurrences.\n"
          ]
        }
      ]
    },
    {
      "cell_type": "code",
      "source": [
        "4511 + 4840 + 237709 + 1320 + 64841 + 53306"
      ],
      "metadata": {
        "colab": {
          "base_uri": "https://localhost:8080/"
        },
        "id": "7wl6PQA6cVYT",
        "outputId": "9d7d0a3e-7aa5-45ba-9b21-9e1cae30c166"
      },
      "execution_count": 44,
      "outputs": [
        {
          "output_type": "execute_result",
          "data": {
            "text/plain": [
              "366527"
            ]
          },
          "metadata": {},
          "execution_count": 44
        }
      ]
    },
    {
      "cell_type": "code",
      "source": [
        "base = 'https://api.obis.org/v3/'\n",
        "\n",
        "dataset_data = pd.DataFrame() # initialize df\n",
        "combined_data = pd.DataFrame()\n",
        "\n",
        "# build a list of the subset of fields you want back\n",
        "fields = ['dataset_id','datasetID','id','decimalLatitude','decimalLongitude','species','aphiaID','date_year']\n",
        "\n",
        "f = \"%2C\".join([f\"{v}\" for v in fields])\n",
        "\n",
        "\n",
        "for dataset in df.loc[df['Has the dataset been submitted to OBIS?']=='Yes','If yes to above, please include appropriate OBIS link(s) here.']:\n",
        "\n",
        "  datasetid = dataset.split(\"/\")[-1]\n",
        "  print(\"Dataset ID:\",datasetid)\n",
        "  # The API limits responses to 10,000 entries, so we need to iterate by 10k and use the last occurrence\n",
        "  # uuid to set after \"Occurrence UUID up to which to skip.\"\n",
        "  for i in range(10000,size,10000):\n",
        "      if i == 10000:\n",
        "          # build url for first call\n",
        "          occurrence_id = 'occurrence?datasetid={}&fields={}&size=10000'.format(datasetid,f)\n",
        "      else:\n",
        "          # build url for remaining calls\n",
        "          uuid = dataset_data.iloc[-1]['id']\n",
        "          occurrence_id = 'occurrence?dataset_id={}&fields={}&after={}&size=10000'.format(datasetid,f,uuid)\n",
        "        \n",
        "      url = '{}{}'.format(base,occurrence_id)\n",
        "      # open the api call\n",
        "      response= urlopen(url) \n",
        "      # read in the json\n",
        "      data_json = json.loads(response.read())\n",
        "      # build a mongo dataframe with all results\n",
        "      dataset_data = pd.concat([dataset_data, pd.DataFrame(data_json['results'])])\n",
        "\n",
        "      print('\\t\\tData shape:',len(data_json['results']),dataset_data.shape)\n",
        "\n",
        "      # kick out of loop at the end\n",
        "      if len(data_json['results']) < 10000:\n",
        "        break\n",
        "\n",
        "  # Need to grab from last iteration to expected size.\n",
        "  uuid = dataset_data.iloc[-1]['id']\n",
        "  occurrence_id = 'occurrence?datasetid={}&fields={}&after={}&size=10000'.format(datasetid,f,uuid)\n",
        "  url = '{}{}'.format(base,occurrence_id)\n",
        "  response= urlopen(url)\n",
        "  data_json = json.loads(response.read())\n",
        "  dataset_data = pd.concat([dataset_data, pd.DataFrame(data_json['results'])],ignore_index=True)\n",
        "  print('\\t\\tData shape:',len(data_json['results']),dataset_data.shape) \n",
        "\n",
        "  combined_data = pd.concat([combined_data, dataset_data],ignore_index=True)\n",
        "  \n",
        "print('Final shape:',combined_data.shape)\n"
      ],
      "metadata": {
        "colab": {
          "base_uri": "https://localhost:8080/"
        },
        "id": "gOdLy06hftV_",
        "outputId": "7777dd1a-4c38-47b6-9811-8e6a141633c0"
      },
      "execution_count": 51,
      "outputs": [
        {
          "output_type": "stream",
          "name": "stdout",
          "text": [
            "Dataset ID: d32266b4-d98d-4eed-8207-57dff1f14cc4\n",
            "\t\tData shape: 4511 (4511, 7)\n",
            "\t\tData shape: 0 (4511, 7)\n",
            "Dataset ID: ab06f0c6-3de3-447a-b339-a8517f2c95ed\n",
            "\t\tData shape: 4840 (9351, 8)\n",
            "\t\tData shape: 0 (9351, 8)\n",
            "Dataset ID: cfceb150-bbe2-4efb-8682-14cfc7167e7c\n",
            "\t\tData shape: 10000 (19351, 8)\n",
            "\t\tData shape: 10000 (29351, 8)\n",
            "\t\tData shape: 10000 (39351, 8)\n",
            "\t\tData shape: 10000 (49351, 8)\n",
            "\t\tData shape: 10000 (59351, 8)\n",
            "\t\tData shape: 10000 (69351, 8)\n",
            "Dataset ID: afef5da2-614b-4208-aee6-c2413ed5ab76\n",
            "\t\tData shape: 1320 (70671, 8)\n",
            "\t\tData shape: 0 (70671, 8)\n",
            "Dataset ID: 62b97724-da17-4ca7-9b26-b2a22aeaab51\n",
            "\t\tData shape: 10000 (80671, 8)\n",
            "\t\tData shape: 10000 (90671, 8)\n",
            "\t\tData shape: 10000 (100671, 8)\n",
            "\t\tData shape: 10000 (110671, 8)\n",
            "\t\tData shape: 10000 (120671, 8)\n",
            "\t\tData shape: 10000 (130671, 8)\n",
            "Dataset ID: fbf4cb59-cef3-43be-b0ab-0dbab5f51740\n",
            "\t\tData shape: 10000 (140671, 8)\n",
            "\t\tData shape: 10000 (150671, 8)\n",
            "\t\tData shape: 10000 (160671, 8)\n",
            "\t\tData shape: 10000 (170671, 8)\n",
            "\t\tData shape: 10000 (180671, 8)\n",
            "\t\tData shape: 10000 (190671, 8)\n",
            "Final shape: (475226, 8)\n"
          ]
        }
      ]
    },
    {
      "cell_type": "code",
      "source": [
        ""
      ],
      "metadata": {
        "colab": {
          "base_uri": "https://localhost:8080/",
          "height": 35
        },
        "id": "IrSeUp9XqXJp",
        "outputId": "c0f0d0b3-b6ef-4b99-dbfb-24cc42b3de64"
      },
      "execution_count": 40,
      "outputs": [
        {
          "output_type": "execute_result",
          "data": {
            "text/plain": [
              "'https://api.obis.org/v3/occurrenceoccurrence?datasetid=d32266b4-d98d-4eed-8207-57dff1f14cc4&fields=dataset_id%2CdatasetID%2Cid%2CdecimalLatitude%2CdecimalLongitude%2Cspecies%2CaphiaID%2Cdate_year&size=10000'"
            ],
            "application/vnd.google.colaboratory.intrinsic+json": {
              "type": "string"
            }
          },
          "metadata": {},
          "execution_count": 40
        }
      ]
    },
    {
      "cell_type": "code",
      "source": [
        ""
      ],
      "metadata": {
        "id": "7sp9dx2GqdSB"
      },
      "execution_count": null,
      "outputs": []
    }
  ]
}